{
 "cells": [
  {
   "cell_type": "code",
   "execution_count": 1,
   "id": "d30c77d6",
   "metadata": {
    "_cell_guid": "b1076dfc-b9ad-4769-8c92-a6c4dae69d19",
    "_uuid": "8f2839f25d086af736a60e9eeb907d3b93b6e0e5",
    "execution": {
     "iopub.execute_input": "2022-07-16T17:20:28.060197Z",
     "iopub.status.busy": "2022-07-16T17:20:28.059722Z",
     "iopub.status.idle": "2022-07-16T17:20:28.079664Z",
     "shell.execute_reply": "2022-07-16T17:20:28.078762Z"
    },
    "papermill": {
     "duration": 0.036649,
     "end_time": "2022-07-16T17:20:28.082787",
     "exception": false,
     "start_time": "2022-07-16T17:20:28.046138",
     "status": "completed"
    },
    "tags": []
   },
   "outputs": [
    {
     "name": "stdout",
     "output_type": "stream",
     "text": [
      "/kaggle/input/titanic/titanic.csv\n",
      "/kaggle/input/heart-failure-prediction/heart.csv\n"
     ]
    }
   ],
   "source": [
    "# This Python 3 environment comes with many helpful analytics libraries installed\n",
    "# It is defined by the kaggle/python Docker image: https://github.com/kaggle/docker-python\n",
    "# For example, here's several helpful packages to load\n",
    "\n",
    "import numpy as np # linear algebra\n",
    "import pandas as pd # data processing, CSV file I/O (e.g. pd.read_csv)\n",
    "\n",
    "# Input data files are available in the read-only \"../input/\" directory\n",
    "# For example, running this (by clicking run or pressing Shift+Enter) will list all files under the input directory\n",
    "\n",
    "import os\n",
    "for dirname, _, filenames in os.walk('/kaggle/input'):\n",
    "    for filename in filenames:\n",
    "        print(os.path.join(dirname, filename))\n",
    "\n",
    "# You can write up to 20GB to the current directory (/kaggle/working/) that gets preserved as output when you create a version using \"Save & Run All\" \n",
    "# You can also write temporary files to /kaggle/temp/, but they won't be saved outside of the current session"
   ]
  },
  {
   "cell_type": "markdown",
   "id": "d5c4683d",
   "metadata": {
    "papermill": {
     "duration": 0.010586,
     "end_time": "2022-07-16T17:20:28.105078",
     "exception": false,
     "start_time": "2022-07-16T17:20:28.094492",
     "status": "completed"
    },
    "tags": []
   },
   "source": [
    "<div style=\"color:white;\n",
    "           display:fill;\n",
    "           border-radius:5px;\n",
    "           background-color:#FFDD00;\n",
    "           font-size:20px;\n",
    "           font-family:Times New Roman;\n",
    "           letter-spacing:0.5px\">\n",
    "        <p style=\"padding: 10px;\n",
    "              color:Crimson;\">\n",
    "            <b>Types of Data</b>\n",
    "        </p>\n",
    "</div>"
   ]
  },
  {
   "cell_type": "markdown",
   "id": "a606bfca",
   "metadata": {
    "papermill": {
     "duration": 0.012296,
     "end_time": "2022-07-16T17:20:28.128265",
     "exception": false,
     "start_time": "2022-07-16T17:20:28.115969",
     "status": "completed"
    },
    "tags": []
   },
   "source": [
    ">There are different types of data in Statistics. The data are the individual pieces of factual information recorded, and it is used for the purpose of the analysis process. Data classification and data handling are important processes as it involves a multitude of tags and labels to define the data, its integrity and confidentiality. "
   ]
  },
  {
   "cell_type": "markdown",
   "id": "ff3f8790",
   "metadata": {
    "papermill": {
     "duration": 0.011456,
     "end_time": "2022-07-16T17:20:28.150746",
     "exception": false,
     "start_time": "2022-07-16T17:20:28.139290",
     "status": "completed"
    },
    "tags": []
   },
   "source": [
    "<center><img src=\"https://2.bp.blogspot.com/-IUepWeQ3HDA/VO2LddsPkDI/AAAAAAAACNU/pyoF8xyaYsg/s1600/datatypes.png\" alt=\"Heart Disease\" width=\"50%\" width=\"50%\"></center>"
   ]
  },
  {
   "cell_type": "markdown",
   "id": "940e00db",
   "metadata": {
    "papermill": {
     "duration": 0.010656,
     "end_time": "2022-07-16T17:20:28.172521",
     "exception": false,
     "start_time": "2022-07-16T17:20:28.161865",
     "status": "completed"
    },
    "tags": []
   },
   "source": [
    "<div style=\"color:white;\n",
    "           display:fill;\n",
    "           border-radius:5px;\n",
    "           background-color:#FFDD00;\n",
    "           font-size:20px;\n",
    "           font-family:Nexa;\n",
    "           letter-spacing:0.5px\">\n",
    "        <p style=\"padding: 10px;\n",
    "              color:Crimson;\">\n",
    "            <b>Categorical variables</b>\n",
    "        </p>\n",
    "</div>"
   ]
  },
  {
   "cell_type": "markdown",
   "id": "ce1aba97",
   "metadata": {
    "papermill": {
     "duration": 0.011096,
     "end_time": "2022-07-16T17:20:28.194565",
     "exception": false,
     "start_time": "2022-07-16T17:20:28.183469",
     "status": "completed"
    },
    "tags": []
   },
   "source": [
    "> A categorical variable has values that you can put into a countable number of distinct groups based on a characteristic. For a categorical variable, you can assign categories but the categories have no natural order.  If the variable has a natural order, it is an ordinal variable. Categorical variables are also called qualitative variables or attribute variables."
   ]
  },
  {
   "cell_type": "markdown",
   "id": "aaa1ee2e",
   "metadata": {
    "papermill": {
     "duration": 0.010621,
     "end_time": "2022-07-16T17:20:28.216245",
     "exception": false,
     "start_time": "2022-07-16T17:20:28.205624",
     "status": "completed"
    },
    "tags": []
   },
   "source": [
    "<center><img src=\"https://miro.medium.com/max/700/1*wYbTRM0dgnRzutwZq63xCg.png\" alt=\"Heart Disease\" width=\"50%\" width=\"50%\"></center>"
   ]
  },
  {
   "cell_type": "markdown",
   "id": "a48b27d7",
   "metadata": {
    "papermill": {
     "duration": 0.010312,
     "end_time": "2022-07-16T17:20:28.237619",
     "exception": false,
     "start_time": "2022-07-16T17:20:28.227307",
     "status": "completed"
    },
    "tags": []
   },
   "source": [
    "> Most of the Machine learning algorithms cannot handle categorical variables unless we convert them to numerical values. Many algorithms’ performances vary based on how Categorical variables are encoded.\n",
    "\n",
    "> Categorical variables can be divided into two categories: Nominal (No particular order) and Ordinal (some ordered).\n"
   ]
  },
  {
   "cell_type": "markdown",
   "id": "b405b00f",
   "metadata": {
    "papermill": {
     "duration": 0.010858,
     "end_time": "2022-07-16T17:20:28.261606",
     "exception": false,
     "start_time": "2022-07-16T17:20:28.250748",
     "status": "completed"
    },
    "tags": []
   },
   "source": [
    "**Few examples as below for the Nominal variable:**\n",
    "\n",
    "- Red, Yellow, Pink, Blue\n",
    "- Singapore, Japan, USA, India, Korea\n",
    "- Cow, Dog, Cat, Snake"
   ]
  },
  {
   "cell_type": "markdown",
   "id": "8a649ecb",
   "metadata": {
    "papermill": {
     "duration": 0.010682,
     "end_time": "2022-07-16T17:20:28.283316",
     "exception": false,
     "start_time": "2022-07-16T17:20:28.272634",
     "status": "completed"
    },
    "tags": []
   },
   "source": [
    "**Example of Ordinal variables:**\n",
    "\n",
    "- High, Medium, Low\n",
    "- “Strongly agree,” Agree, Neutral, Disagree, and “Strongly Disagree.”\n",
    "- Excellent, Okay, Bad"
   ]
  },
  {
   "cell_type": "markdown",
   "id": "40edc15b",
   "metadata": {
    "papermill": {
     "duration": 0.010851,
     "end_time": "2022-07-16T17:20:28.305557",
     "exception": false,
     "start_time": "2022-07-16T17:20:28.294706",
     "status": "completed"
    },
    "tags": []
   },
   "source": [
    "<div style=\"display:fill;\n",
    "            border-radius:15px;\n",
    "            background-color:#FFDD00;\n",
    "            font-size:150%;\n",
    "            font-family:Times New Roman;\n",
    "            letter-spacing:0.5px;\n",
    "            padding:10px;\n",
    "            color:Crimson;\n",
    "            border-color: Crimson;\n",
    "            text-align:justify;\">\n",
    "<b> There are many ways we can encode these categorical variables as numbers and use them in an algorithm. I will try to cover most of them, that are commonly used.</b>\n",
    "</div>"
   ]
  },
  {
   "cell_type": "markdown",
   "id": "e90f42ab",
   "metadata": {
    "papermill": {
     "duration": 0.01065,
     "end_time": "2022-07-16T17:20:28.328597",
     "exception": false,
     "start_time": "2022-07-16T17:20:28.317947",
     "status": "completed"
    },
    "tags": []
   },
   "source": [
    "<font color=\"Crimson\"><h1 style=\"text-align: justify; font-family: 'Lucida Calligraphy'; font-size:30px; color:Crimson\"> Introduction  </h1>"
   ]
  },
  {
   "cell_type": "markdown",
   "id": "0c285515",
   "metadata": {
    "papermill": {
     "duration": 0.010228,
     "end_time": "2022-07-16T17:20:28.349730",
     "exception": false,
     "start_time": "2022-07-16T17:20:28.339502",
     "status": "completed"
    },
    "tags": []
   },
   "source": [
    "<font color=\"Crimson\" size=+2 face=\"Lucida Calligraphy\"><div style=\"text-align: justify\">This notebook aims to:</font>\n",
    "    \n",
    "> **Implement and explain different methods used for categorical to numerical-encoding**"
   ]
  },
  {
   "cell_type": "markdown",
   "id": "9e804916",
   "metadata": {
    "papermill": {
     "duration": 0.011245,
     "end_time": "2022-07-16T17:20:28.372274",
     "exception": false,
     "start_time": "2022-07-16T17:20:28.361029",
     "status": "completed"
    },
    "tags": []
   },
   "source": [
    "<font color=\"Crimson\" size=+2 face=\"Lucida Calligraphy\"><div style=\"text-align: justify\">The different categorical encoding methods used in this project are:</font>"
   ]
  },
  {
   "cell_type": "markdown",
   "id": "799433ed",
   "metadata": {
    "papermill": {
     "duration": 0.010221,
     "end_time": "2022-07-16T17:20:28.393650",
     "exception": false,
     "start_time": "2022-07-16T17:20:28.383429",
     "status": "completed"
    },
    "tags": []
   },
   "source": [
    "> 1.One hot encoding with Pandas (get_dummies) \n",
    "\n",
    "> 2.One hot encoding with Sklearn (LabelEncoder)\n",
    "\n",
    "> 3.One hot encoding with Sklearn (OneHotEncoder)\n",
    "\n",
    "> 4.Ordinal Encoding\n",
    "\n",
    "> 5.Replace Method "
   ]
  },
  {
   "cell_type": "code",
   "execution_count": 2,
   "id": "69941c47",
   "metadata": {
    "execution": {
     "iopub.execute_input": "2022-07-16T17:20:28.416548Z",
     "iopub.status.busy": "2022-07-16T17:20:28.416140Z",
     "iopub.status.idle": "2022-07-16T17:20:29.607728Z",
     "shell.execute_reply": "2022-07-16T17:20:29.606515Z"
    },
    "papermill": {
     "duration": 1.206342,
     "end_time": "2022-07-16T17:20:29.610590",
     "exception": false,
     "start_time": "2022-07-16T17:20:28.404248",
     "status": "completed"
    },
    "tags": []
   },
   "outputs": [],
   "source": [
    "import pandas as pd\n",
    "import numpy as np\n",
    "import seaborn as sns\n",
    "import matplotlib.pyplot as plt\n",
    "%matplotlib inline\n",
    "\n",
    "import warnings\n",
    "warnings.filterwarnings('ignore')"
   ]
  },
  {
   "cell_type": "code",
   "execution_count": 3,
   "id": "541407eb",
   "metadata": {
    "execution": {
     "iopub.execute_input": "2022-07-16T17:20:29.634632Z",
     "iopub.status.busy": "2022-07-16T17:20:29.634202Z",
     "iopub.status.idle": "2022-07-16T17:20:29.639444Z",
     "shell.execute_reply": "2022-07-16T17:20:29.638328Z"
    },
    "papermill": {
     "duration": 0.020699,
     "end_time": "2022-07-16T17:20:29.642224",
     "exception": false,
     "start_time": "2022-07-16T17:20:29.621525",
     "status": "completed"
    },
    "tags": []
   },
   "outputs": [],
   "source": [
    "pd.set_option('display.max_columns',None)\n",
    "pd.set_option('display.max_rows',None)\n",
    "pd.set_option(\"display.precision\", 2)"
   ]
  },
  {
   "cell_type": "code",
   "execution_count": 4,
   "id": "60cbdd03",
   "metadata": {
    "execution": {
     "iopub.execute_input": "2022-07-16T17:20:29.665589Z",
     "iopub.status.busy": "2022-07-16T17:20:29.665179Z",
     "iopub.status.idle": "2022-07-16T17:20:29.759418Z",
     "shell.execute_reply": "2022-07-16T17:20:29.758142Z"
    },
    "papermill": {
     "duration": 0.109409,
     "end_time": "2022-07-16T17:20:29.762290",
     "exception": false,
     "start_time": "2022-07-16T17:20:29.652881",
     "status": "completed"
    },
    "tags": []
   },
   "outputs": [
    {
     "data": {
      "text/html": [
       "<style type=\"text/css\">\n",
       "#T_e5e06_row0_col0, #T_e5e06_row0_col1, #T_e5e06_row0_col2, #T_e5e06_row0_col3, #T_e5e06_row0_col4, #T_e5e06_row0_col5, #T_e5e06_row0_col6, #T_e5e06_row0_col7, #T_e5e06_row0_col8, #T_e5e06_row0_col9, #T_e5e06_row0_col10, #T_e5e06_row0_col11, #T_e5e06_row1_col0, #T_e5e06_row1_col1, #T_e5e06_row1_col2, #T_e5e06_row1_col3, #T_e5e06_row1_col4, #T_e5e06_row1_col5, #T_e5e06_row1_col6, #T_e5e06_row1_col7, #T_e5e06_row1_col8, #T_e5e06_row1_col9, #T_e5e06_row1_col10, #T_e5e06_row1_col11, #T_e5e06_row2_col0, #T_e5e06_row2_col1, #T_e5e06_row2_col2, #T_e5e06_row2_col3, #T_e5e06_row2_col4, #T_e5e06_row2_col5, #T_e5e06_row2_col6, #T_e5e06_row2_col7, #T_e5e06_row2_col8, #T_e5e06_row2_col9, #T_e5e06_row2_col10, #T_e5e06_row2_col11, #T_e5e06_row3_col0, #T_e5e06_row3_col1, #T_e5e06_row3_col2, #T_e5e06_row3_col3, #T_e5e06_row3_col4, #T_e5e06_row3_col5, #T_e5e06_row3_col6, #T_e5e06_row3_col7, #T_e5e06_row3_col8, #T_e5e06_row3_col9, #T_e5e06_row3_col10, #T_e5e06_row3_col11, #T_e5e06_row4_col0, #T_e5e06_row4_col1, #T_e5e06_row4_col2, #T_e5e06_row4_col3, #T_e5e06_row4_col4, #T_e5e06_row4_col5, #T_e5e06_row4_col6, #T_e5e06_row4_col7, #T_e5e06_row4_col8, #T_e5e06_row4_col9, #T_e5e06_row4_col10, #T_e5e06_row4_col11 {\n",
       "  background-color: Thistle;\n",
       "  color: Red;\n",
       "  border-color: darkblack;\n",
       "}\n",
       "</style>\n",
       "<table id=\"T_e5e06_\">\n",
       "  <thead>\n",
       "    <tr>\n",
       "      <th class=\"blank level0\" >&nbsp;</th>\n",
       "      <th class=\"col_heading level0 col0\" >Age</th>\n",
       "      <th class=\"col_heading level0 col1\" >Sex</th>\n",
       "      <th class=\"col_heading level0 col2\" >ChestPainType</th>\n",
       "      <th class=\"col_heading level0 col3\" >RestingBP</th>\n",
       "      <th class=\"col_heading level0 col4\" >Cholesterol</th>\n",
       "      <th class=\"col_heading level0 col5\" >FastingBS</th>\n",
       "      <th class=\"col_heading level0 col6\" >RestingECG</th>\n",
       "      <th class=\"col_heading level0 col7\" >MaxHR</th>\n",
       "      <th class=\"col_heading level0 col8\" >ExerciseAngina</th>\n",
       "      <th class=\"col_heading level0 col9\" >Oldpeak</th>\n",
       "      <th class=\"col_heading level0 col10\" >ST_Slope</th>\n",
       "      <th class=\"col_heading level0 col11\" >HeartDisease</th>\n",
       "    </tr>\n",
       "  </thead>\n",
       "  <tbody>\n",
       "    <tr>\n",
       "      <th id=\"T_e5e06_level0_row0\" class=\"row_heading level0 row0\" >0</th>\n",
       "      <td id=\"T_e5e06_row0_col0\" class=\"data row0 col0\" >40</td>\n",
       "      <td id=\"T_e5e06_row0_col1\" class=\"data row0 col1\" >M</td>\n",
       "      <td id=\"T_e5e06_row0_col2\" class=\"data row0 col2\" >ATA</td>\n",
       "      <td id=\"T_e5e06_row0_col3\" class=\"data row0 col3\" >140</td>\n",
       "      <td id=\"T_e5e06_row0_col4\" class=\"data row0 col4\" >289</td>\n",
       "      <td id=\"T_e5e06_row0_col5\" class=\"data row0 col5\" >0</td>\n",
       "      <td id=\"T_e5e06_row0_col6\" class=\"data row0 col6\" >Normal</td>\n",
       "      <td id=\"T_e5e06_row0_col7\" class=\"data row0 col7\" >172</td>\n",
       "      <td id=\"T_e5e06_row0_col8\" class=\"data row0 col8\" >N</td>\n",
       "      <td id=\"T_e5e06_row0_col9\" class=\"data row0 col9\" >0.00</td>\n",
       "      <td id=\"T_e5e06_row0_col10\" class=\"data row0 col10\" >Up</td>\n",
       "      <td id=\"T_e5e06_row0_col11\" class=\"data row0 col11\" >0</td>\n",
       "    </tr>\n",
       "    <tr>\n",
       "      <th id=\"T_e5e06_level0_row1\" class=\"row_heading level0 row1\" >1</th>\n",
       "      <td id=\"T_e5e06_row1_col0\" class=\"data row1 col0\" >49</td>\n",
       "      <td id=\"T_e5e06_row1_col1\" class=\"data row1 col1\" >F</td>\n",
       "      <td id=\"T_e5e06_row1_col2\" class=\"data row1 col2\" >NAP</td>\n",
       "      <td id=\"T_e5e06_row1_col3\" class=\"data row1 col3\" >160</td>\n",
       "      <td id=\"T_e5e06_row1_col4\" class=\"data row1 col4\" >180</td>\n",
       "      <td id=\"T_e5e06_row1_col5\" class=\"data row1 col5\" >0</td>\n",
       "      <td id=\"T_e5e06_row1_col6\" class=\"data row1 col6\" >Normal</td>\n",
       "      <td id=\"T_e5e06_row1_col7\" class=\"data row1 col7\" >156</td>\n",
       "      <td id=\"T_e5e06_row1_col8\" class=\"data row1 col8\" >N</td>\n",
       "      <td id=\"T_e5e06_row1_col9\" class=\"data row1 col9\" >1.00</td>\n",
       "      <td id=\"T_e5e06_row1_col10\" class=\"data row1 col10\" >Flat</td>\n",
       "      <td id=\"T_e5e06_row1_col11\" class=\"data row1 col11\" >1</td>\n",
       "    </tr>\n",
       "    <tr>\n",
       "      <th id=\"T_e5e06_level0_row2\" class=\"row_heading level0 row2\" >2</th>\n",
       "      <td id=\"T_e5e06_row2_col0\" class=\"data row2 col0\" >37</td>\n",
       "      <td id=\"T_e5e06_row2_col1\" class=\"data row2 col1\" >M</td>\n",
       "      <td id=\"T_e5e06_row2_col2\" class=\"data row2 col2\" >ATA</td>\n",
       "      <td id=\"T_e5e06_row2_col3\" class=\"data row2 col3\" >130</td>\n",
       "      <td id=\"T_e5e06_row2_col4\" class=\"data row2 col4\" >283</td>\n",
       "      <td id=\"T_e5e06_row2_col5\" class=\"data row2 col5\" >0</td>\n",
       "      <td id=\"T_e5e06_row2_col6\" class=\"data row2 col6\" >ST</td>\n",
       "      <td id=\"T_e5e06_row2_col7\" class=\"data row2 col7\" >98</td>\n",
       "      <td id=\"T_e5e06_row2_col8\" class=\"data row2 col8\" >N</td>\n",
       "      <td id=\"T_e5e06_row2_col9\" class=\"data row2 col9\" >0.00</td>\n",
       "      <td id=\"T_e5e06_row2_col10\" class=\"data row2 col10\" >Up</td>\n",
       "      <td id=\"T_e5e06_row2_col11\" class=\"data row2 col11\" >0</td>\n",
       "    </tr>\n",
       "    <tr>\n",
       "      <th id=\"T_e5e06_level0_row3\" class=\"row_heading level0 row3\" >3</th>\n",
       "      <td id=\"T_e5e06_row3_col0\" class=\"data row3 col0\" >48</td>\n",
       "      <td id=\"T_e5e06_row3_col1\" class=\"data row3 col1\" >F</td>\n",
       "      <td id=\"T_e5e06_row3_col2\" class=\"data row3 col2\" >ASY</td>\n",
       "      <td id=\"T_e5e06_row3_col3\" class=\"data row3 col3\" >138</td>\n",
       "      <td id=\"T_e5e06_row3_col4\" class=\"data row3 col4\" >214</td>\n",
       "      <td id=\"T_e5e06_row3_col5\" class=\"data row3 col5\" >0</td>\n",
       "      <td id=\"T_e5e06_row3_col6\" class=\"data row3 col6\" >Normal</td>\n",
       "      <td id=\"T_e5e06_row3_col7\" class=\"data row3 col7\" >108</td>\n",
       "      <td id=\"T_e5e06_row3_col8\" class=\"data row3 col8\" >Y</td>\n",
       "      <td id=\"T_e5e06_row3_col9\" class=\"data row3 col9\" >1.50</td>\n",
       "      <td id=\"T_e5e06_row3_col10\" class=\"data row3 col10\" >Flat</td>\n",
       "      <td id=\"T_e5e06_row3_col11\" class=\"data row3 col11\" >1</td>\n",
       "    </tr>\n",
       "    <tr>\n",
       "      <th id=\"T_e5e06_level0_row4\" class=\"row_heading level0 row4\" >4</th>\n",
       "      <td id=\"T_e5e06_row4_col0\" class=\"data row4 col0\" >54</td>\n",
       "      <td id=\"T_e5e06_row4_col1\" class=\"data row4 col1\" >M</td>\n",
       "      <td id=\"T_e5e06_row4_col2\" class=\"data row4 col2\" >NAP</td>\n",
       "      <td id=\"T_e5e06_row4_col3\" class=\"data row4 col3\" >150</td>\n",
       "      <td id=\"T_e5e06_row4_col4\" class=\"data row4 col4\" >195</td>\n",
       "      <td id=\"T_e5e06_row4_col5\" class=\"data row4 col5\" >0</td>\n",
       "      <td id=\"T_e5e06_row4_col6\" class=\"data row4 col6\" >Normal</td>\n",
       "      <td id=\"T_e5e06_row4_col7\" class=\"data row4 col7\" >122</td>\n",
       "      <td id=\"T_e5e06_row4_col8\" class=\"data row4 col8\" >N</td>\n",
       "      <td id=\"T_e5e06_row4_col9\" class=\"data row4 col9\" >0.00</td>\n",
       "      <td id=\"T_e5e06_row4_col10\" class=\"data row4 col10\" >Up</td>\n",
       "      <td id=\"T_e5e06_row4_col11\" class=\"data row4 col11\" >0</td>\n",
       "    </tr>\n",
       "  </tbody>\n",
       "</table>\n"
      ],
      "text/plain": [
       "<pandas.io.formats.style.Styler at 0x7f1cbc879050>"
      ]
     },
     "execution_count": 4,
     "metadata": {},
     "output_type": "execute_result"
    }
   ],
   "source": [
    "heart = pd.read_csv('../input/heart-failure-prediction/heart.csv')\n",
    "heart.head().style.set_properties(**{'background-color': 'Thistle',\n",
    "                           'color': 'Red',\n",
    "                           'border-color': 'darkblack'})"
   ]
  },
  {
   "cell_type": "markdown",
   "id": "20314191",
   "metadata": {
    "papermill": {
     "duration": 0.010904,
     "end_time": "2022-07-16T17:20:29.784874",
     "exception": false,
     "start_time": "2022-07-16T17:20:29.773970",
     "status": "completed"
    },
    "tags": []
   },
   "source": [
    "<font color=\"DarkGreen\" size=+2 face=\"Lucida Calligraphy\"><div style=\"text-align: justify\">💘 Attributes:</font>\n",
    "    \n",
    "- **Age:** Age of the patient [years]\n",
    "    \n",
    "- **Sex:** Sex of the patient [M: Male, F: Female]\n",
    "    \n",
    "- **ChestPainType:** Chest Pain Type [TA: Typical Angina, ATA: Atypical Angina, NAP: Non-Anginal Pain, ASY: Asymptomatic]\n",
    "\n",
    "- **RestingBP:** Resting blood pressure [mm Hg]\n",
    "\n",
    "- **Cholesterol:** Serum cholesterol [mm/dl]\n",
    "    \n",
    "- **FastingBS:** Fasting blood sugar [1: if FastingBS > 120 mg/dl, 0: otherwise]\n",
    "    \n",
    "- **RestingECG**: Resting electrocardiogram results [Normal: Normal, ST: having ST-T wave abnormality (T wave inversions and/or ST elevation or depression of > 0.05 mV), LVH: showing probable or definite left ventricular hypertrophy by Estes' criteria]\n",
    "    \n",
    "- **MaxHR:** Maximum heart rate achieved [Numeric value between 60 and 202]\n",
    "    \n",
    "- **ExerciseAngina:** Exercise-induced angina [Y: Yes, N: No]\n",
    "    \n",
    "- **Oldpeak:** Oldpeak = ST [Numeric value measured in depression]\n",
    "    \n",
    "- **ST_Slope:** The slope of the peak exercise ST segment [Up: upsloping, Flat: flat, Down: downsloping]\n",
    "    \n",
    "- **HeartDisease:** Output class [1: heart disease, 0: Normal]"
   ]
  },
  {
   "cell_type": "code",
   "execution_count": 5,
   "id": "55125a99",
   "metadata": {
    "execution": {
     "iopub.execute_input": "2022-07-16T17:20:29.809800Z",
     "iopub.status.busy": "2022-07-16T17:20:29.809394Z",
     "iopub.status.idle": "2022-07-16T17:20:29.819031Z",
     "shell.execute_reply": "2022-07-16T17:20:29.817919Z"
    },
    "papermill": {
     "duration": 0.025215,
     "end_time": "2022-07-16T17:20:29.821691",
     "exception": false,
     "start_time": "2022-07-16T17:20:29.796476",
     "status": "completed"
    },
    "tags": []
   },
   "outputs": [
    {
     "data": {
      "text/plain": [
       "(918, 12)"
      ]
     },
     "metadata": {},
     "output_type": "display_data"
    },
    {
     "data": {
      "text/plain": [
       "11016"
      ]
     },
     "metadata": {},
     "output_type": "display_data"
    }
   ],
   "source": [
    "display(heart.shape)\n",
    "display(heart.size)"
   ]
  },
  {
   "cell_type": "code",
   "execution_count": 6,
   "id": "51d7027c",
   "metadata": {
    "execution": {
     "iopub.execute_input": "2022-07-16T17:20:29.845833Z",
     "iopub.status.busy": "2022-07-16T17:20:29.845469Z",
     "iopub.status.idle": "2022-07-16T17:20:29.868479Z",
     "shell.execute_reply": "2022-07-16T17:20:29.866082Z"
    },
    "papermill": {
     "duration": 0.039137,
     "end_time": "2022-07-16T17:20:29.872019",
     "exception": false,
     "start_time": "2022-07-16T17:20:29.832882",
     "status": "completed"
    },
    "tags": []
   },
   "outputs": [
    {
     "name": "stdout",
     "output_type": "stream",
     "text": [
      "<class 'pandas.core.frame.DataFrame'>\n",
      "RangeIndex: 918 entries, 0 to 917\n",
      "Data columns (total 12 columns):\n",
      " #   Column          Non-Null Count  Dtype  \n",
      "---  ------          --------------  -----  \n",
      " 0   Age             918 non-null    int64  \n",
      " 1   Sex             918 non-null    object \n",
      " 2   ChestPainType   918 non-null    object \n",
      " 3   RestingBP       918 non-null    int64  \n",
      " 4   Cholesterol     918 non-null    int64  \n",
      " 5   FastingBS       918 non-null    int64  \n",
      " 6   RestingECG      918 non-null    object \n",
      " 7   MaxHR           918 non-null    int64  \n",
      " 8   ExerciseAngina  918 non-null    object \n",
      " 9   Oldpeak         918 non-null    float64\n",
      " 10  ST_Slope        918 non-null    object \n",
      " 11  HeartDisease    918 non-null    int64  \n",
      "dtypes: float64(1), int64(6), object(5)\n",
      "memory usage: 86.2+ KB\n"
     ]
    }
   ],
   "source": [
    "heart.info()"
   ]
  },
  {
   "cell_type": "code",
   "execution_count": 7,
   "id": "e5bd4429",
   "metadata": {
    "execution": {
     "iopub.execute_input": "2022-07-16T17:20:29.896861Z",
     "iopub.status.busy": "2022-07-16T17:20:29.896481Z",
     "iopub.status.idle": "2022-07-16T17:20:29.935198Z",
     "shell.execute_reply": "2022-07-16T17:20:29.934318Z"
    },
    "papermill": {
     "duration": 0.05324,
     "end_time": "2022-07-16T17:20:29.937313",
     "exception": false,
     "start_time": "2022-07-16T17:20:29.884073",
     "status": "completed"
    },
    "tags": []
   },
   "outputs": [
    {
     "data": {
      "text/html": [
       "<div>\n",
       "<style scoped>\n",
       "    .dataframe tbody tr th:only-of-type {\n",
       "        vertical-align: middle;\n",
       "    }\n",
       "\n",
       "    .dataframe tbody tr th {\n",
       "        vertical-align: top;\n",
       "    }\n",
       "\n",
       "    .dataframe thead th {\n",
       "        text-align: right;\n",
       "    }\n",
       "</style>\n",
       "<table border=\"1\" class=\"dataframe\">\n",
       "  <thead>\n",
       "    <tr style=\"text-align: right;\">\n",
       "      <th></th>\n",
       "      <th>Age</th>\n",
       "      <th>RestingBP</th>\n",
       "      <th>Cholesterol</th>\n",
       "      <th>FastingBS</th>\n",
       "      <th>MaxHR</th>\n",
       "      <th>Oldpeak</th>\n",
       "      <th>HeartDisease</th>\n",
       "    </tr>\n",
       "  </thead>\n",
       "  <tbody>\n",
       "    <tr>\n",
       "      <th>count</th>\n",
       "      <td>918.00</td>\n",
       "      <td>918.00</td>\n",
       "      <td>918.00</td>\n",
       "      <td>918.00</td>\n",
       "      <td>918.00</td>\n",
       "      <td>918.00</td>\n",
       "      <td>918.00</td>\n",
       "    </tr>\n",
       "    <tr>\n",
       "      <th>mean</th>\n",
       "      <td>53.51</td>\n",
       "      <td>132.40</td>\n",
       "      <td>198.80</td>\n",
       "      <td>0.23</td>\n",
       "      <td>136.81</td>\n",
       "      <td>0.89</td>\n",
       "      <td>0.55</td>\n",
       "    </tr>\n",
       "    <tr>\n",
       "      <th>std</th>\n",
       "      <td>9.43</td>\n",
       "      <td>18.51</td>\n",
       "      <td>109.38</td>\n",
       "      <td>0.42</td>\n",
       "      <td>25.46</td>\n",
       "      <td>1.07</td>\n",
       "      <td>0.50</td>\n",
       "    </tr>\n",
       "    <tr>\n",
       "      <th>min</th>\n",
       "      <td>28.00</td>\n",
       "      <td>0.00</td>\n",
       "      <td>0.00</td>\n",
       "      <td>0.00</td>\n",
       "      <td>60.00</td>\n",
       "      <td>-2.60</td>\n",
       "      <td>0.00</td>\n",
       "    </tr>\n",
       "    <tr>\n",
       "      <th>25%</th>\n",
       "      <td>47.00</td>\n",
       "      <td>120.00</td>\n",
       "      <td>173.25</td>\n",
       "      <td>0.00</td>\n",
       "      <td>120.00</td>\n",
       "      <td>0.00</td>\n",
       "      <td>0.00</td>\n",
       "    </tr>\n",
       "    <tr>\n",
       "      <th>50%</th>\n",
       "      <td>54.00</td>\n",
       "      <td>130.00</td>\n",
       "      <td>223.00</td>\n",
       "      <td>0.00</td>\n",
       "      <td>138.00</td>\n",
       "      <td>0.60</td>\n",
       "      <td>1.00</td>\n",
       "    </tr>\n",
       "    <tr>\n",
       "      <th>75%</th>\n",
       "      <td>60.00</td>\n",
       "      <td>140.00</td>\n",
       "      <td>267.00</td>\n",
       "      <td>0.00</td>\n",
       "      <td>156.00</td>\n",
       "      <td>1.50</td>\n",
       "      <td>1.00</td>\n",
       "    </tr>\n",
       "    <tr>\n",
       "      <th>max</th>\n",
       "      <td>77.00</td>\n",
       "      <td>200.00</td>\n",
       "      <td>603.00</td>\n",
       "      <td>1.00</td>\n",
       "      <td>202.00</td>\n",
       "      <td>6.20</td>\n",
       "      <td>1.00</td>\n",
       "    </tr>\n",
       "  </tbody>\n",
       "</table>\n",
       "</div>"
      ],
      "text/plain": [
       "          Age  RestingBP  Cholesterol  FastingBS   MaxHR  Oldpeak  \\\n",
       "count  918.00     918.00       918.00     918.00  918.00   918.00   \n",
       "mean    53.51     132.40       198.80       0.23  136.81     0.89   \n",
       "std      9.43      18.51       109.38       0.42   25.46     1.07   \n",
       "min     28.00       0.00         0.00       0.00   60.00    -2.60   \n",
       "25%     47.00     120.00       173.25       0.00  120.00     0.00   \n",
       "50%     54.00     130.00       223.00       0.00  138.00     0.60   \n",
       "75%     60.00     140.00       267.00       0.00  156.00     1.50   \n",
       "max     77.00     200.00       603.00       1.00  202.00     6.20   \n",
       "\n",
       "       HeartDisease  \n",
       "count        918.00  \n",
       "mean           0.55  \n",
       "std            0.50  \n",
       "min            0.00  \n",
       "25%            0.00  \n",
       "50%            1.00  \n",
       "75%            1.00  \n",
       "max            1.00  "
      ]
     },
     "execution_count": 7,
     "metadata": {},
     "output_type": "execute_result"
    }
   ],
   "source": [
    "heart.describe()"
   ]
  },
  {
   "cell_type": "code",
   "execution_count": 8,
   "id": "982d48f0",
   "metadata": {
    "execution": {
     "iopub.execute_input": "2022-07-16T17:20:29.963133Z",
     "iopub.status.busy": "2022-07-16T17:20:29.962464Z",
     "iopub.status.idle": "2022-07-16T17:20:29.972719Z",
     "shell.execute_reply": "2022-07-16T17:20:29.971507Z"
    },
    "papermill": {
     "duration": 0.026267,
     "end_time": "2022-07-16T17:20:29.975000",
     "exception": false,
     "start_time": "2022-07-16T17:20:29.948733",
     "status": "completed"
    },
    "tags": []
   },
   "outputs": [
    {
     "data": {
      "text/plain": [
       "Age               0.0\n",
       "Sex               0.0\n",
       "ChestPainType     0.0\n",
       "RestingBP         0.0\n",
       "Cholesterol       0.0\n",
       "FastingBS         0.0\n",
       "RestingECG        0.0\n",
       "MaxHR             0.0\n",
       "ExerciseAngina    0.0\n",
       "Oldpeak           0.0\n",
       "ST_Slope          0.0\n",
       "HeartDisease      0.0\n",
       "dtype: float64"
      ]
     },
     "execution_count": 8,
     "metadata": {},
     "output_type": "execute_result"
    }
   ],
   "source": [
    "heart.isnull().mean()*100"
   ]
  },
  {
   "cell_type": "code",
   "execution_count": 9,
   "id": "a8d14095",
   "metadata": {
    "execution": {
     "iopub.execute_input": "2022-07-16T17:20:30.001237Z",
     "iopub.status.busy": "2022-07-16T17:20:29.999958Z",
     "iopub.status.idle": "2022-07-16T17:20:30.470811Z",
     "shell.execute_reply": "2022-07-16T17:20:30.469476Z"
    },
    "papermill": {
     "duration": 0.48693,
     "end_time": "2022-07-16T17:20:30.473366",
     "exception": false,
     "start_time": "2022-07-16T17:20:29.986436",
     "status": "completed"
    },
    "tags": []
   },
   "outputs": [
    {
     "data": {
      "image/png": "[encoded data removed]",
      "text/plain": [
       "<Figure size 1800x720 with 2 Axes>"
      ]
     },
     "metadata": {
      "needs_background": "light"
     },
     "output_type": "display_data"
    }
   ],
   "source": [
    "import missingno as msno\n",
    "msno.matrix(heart)\n",
    "plt.show()"
   ]
  },
  {
   "cell_type": "code",
   "execution_count": 10,
   "id": "c6049203",
   "metadata": {
    "execution": {
     "iopub.execute_input": "2022-07-16T17:20:30.500262Z",
     "iopub.status.busy": "2022-07-16T17:20:30.499901Z",
     "iopub.status.idle": "2022-07-16T17:20:30.505517Z",
     "shell.execute_reply": "2022-07-16T17:20:30.504303Z"
    },
    "papermill": {
     "duration": 0.021847,
     "end_time": "2022-07-16T17:20:30.507631",
     "exception": false,
     "start_time": "2022-07-16T17:20:30.485784",
     "status": "completed"
    },
    "tags": []
   },
   "outputs": [
    {
     "name": "stdout",
     "output_type": "stream",
     "text": [
      "We have 918 instances with the 11 features and 1 output variable\n"
     ]
    }
   ],
   "source": [
    "print(f'We have {heart.shape[0]} instances with the {heart.shape[1]-1} features and 1 output variable')"
   ]
  },
  {
   "cell_type": "code",
   "execution_count": 11,
   "id": "4666b9c7",
   "metadata": {
    "execution": {
     "iopub.execute_input": "2022-07-16T17:20:30.535178Z",
     "iopub.status.busy": "2022-07-16T17:20:30.534124Z",
     "iopub.status.idle": "2022-07-16T17:20:30.541758Z",
     "shell.execute_reply": "2022-07-16T17:20:30.540931Z"
    },
    "papermill": {
     "duration": 0.024616,
     "end_time": "2022-07-16T17:20:30.544723",
     "exception": false,
     "start_time": "2022-07-16T17:20:30.520107",
     "status": "completed"
    },
    "tags": []
   },
   "outputs": [
    {
     "data": {
      "text/plain": [
       "Age                 int64\n",
       "Sex                object\n",
       "ChestPainType      object\n",
       "RestingBP           int64\n",
       "Cholesterol         int64\n",
       "FastingBS           int64\n",
       "RestingECG         object\n",
       "MaxHR               int64\n",
       "ExerciseAngina     object\n",
       "Oldpeak           float64\n",
       "ST_Slope           object\n",
       "HeartDisease        int64\n",
       "dtype: object"
      ]
     },
     "execution_count": 11,
     "metadata": {},
     "output_type": "execute_result"
    }
   ],
   "source": [
    "heart.dtypes"
   ]
  },
  {
   "cell_type": "markdown",
   "id": "ad50f000",
   "metadata": {
    "papermill": {
     "duration": 0.012485,
     "end_time": "2022-07-16T17:20:30.569772",
     "exception": false,
     "start_time": "2022-07-16T17:20:30.557287",
     "status": "completed"
    },
    "tags": []
   },
   "source": [
    "<div style=\"color:white;\n",
    "           display:fill;\n",
    "           border-radius:5px;\n",
    "           background-color:#FFDD00;\n",
    "           font-size:20px;\n",
    "           font-family:Times New Roman;\n",
    "           letter-spacing:0.5px\">\n",
    "        <p style=\"padding: 10px;\n",
    "              color:Crimson;\">\n",
    "            <b>What is encoding?</b>\n",
    "        </p>\n",
    "</div>"
   ]
  },
  {
   "cell_type": "markdown",
   "id": "fbcef498",
   "metadata": {
    "papermill": {
     "duration": 0.012365,
     "end_time": "2022-07-16T17:20:30.595114",
     "exception": false,
     "start_time": "2022-07-16T17:20:30.582749",
     "status": "completed"
    },
    "tags": []
   },
   "source": [
    "> Encoding is the technique we use to convert categorical entry in a dataset to a numerical data. Let say we have a dataset of employees in which there is a column that contains the information about the city location of an employee. Now we want to use this data to form a model which could predict the salary of an employee based upon his/her other details. Obviously, this model doesn’t understand anything about the city name. So how will you make the model know about it? For example, an employee who lives in a metropolitan city earns more than employees of a small city. Someway we need to make the model know about this . Yes, the way you are thinking in your mind is what we will do through code. As obvious we are thinking to rank the city based upon some spec . These ways of converting a categorical data to a numerical data are our target. "
   ]
  },
  {
   "cell_type": "markdown",
   "id": "cd3dcfde",
   "metadata": {
    "papermill": {
     "duration": 0.012988,
     "end_time": "2022-07-16T17:20:30.621521",
     "exception": false,
     "start_time": "2022-07-16T17:20:30.608533",
     "status": "completed"
    },
    "tags": []
   },
   "source": [
    "<font color=\"Crimson\"><h2 style=\"text-align: justify; font-family: 'Lucida Calligraphy'; font-size:30px; color:Crimson\"> One-Hot Encoding  </h2>"
   ]
  },
  {
   "cell_type": "markdown",
   "id": "fef19f3b",
   "metadata": {
    "papermill": {
     "duration": 0.013146,
     "end_time": "2022-07-16T17:20:30.648802",
     "exception": false,
     "start_time": "2022-07-16T17:20:30.635656",
     "status": "completed"
    },
    "tags": []
   },
   "source": [
    "> One-Hot Encoding consists on generating a Boolean column for each category for a given qualitative variable.\n",
    "\n",
    "**Limitation of One-Hot Encoding** \n",
    "\n",
    "> One-hot encoding is a very popular transformation to the categorical variables. However, it increases the data dimensionality (The Curse of Dimensionality).\n",
    "When the qualitative variables in the dataset have many modalities, the transformation via one-hot encoding will lead to a significant increase in size. This is not desirable especially when the original dataset is already large."
   ]
  },
  {
   "cell_type": "markdown",
   "id": "e4e0ebf6",
   "metadata": {
    "papermill": {
     "duration": 0.012798,
     "end_time": "2022-07-16T17:20:30.674340",
     "exception": false,
     "start_time": "2022-07-16T17:20:30.661542",
     "status": "completed"
    },
    "tags": []
   },
   "source": [
    "<center><img src=\"https://miro.medium.com/max/552/1*80tflY8LxDFRmkD16u25RQ.png\" alt=\"Heart Disease\" width=\"50%\" width=\"50%\"></center>"
   ]
  },
  {
   "cell_type": "code",
   "execution_count": 12,
   "id": "cd6ccdeb",
   "metadata": {
    "execution": {
     "iopub.execute_input": "2022-07-16T17:20:30.704799Z",
     "iopub.status.busy": "2022-07-16T17:20:30.704050Z",
     "iopub.status.idle": "2022-07-16T17:20:30.711727Z",
     "shell.execute_reply": "2022-07-16T17:20:30.710720Z"
    },
    "papermill": {
     "duration": 0.025518,
     "end_time": "2022-07-16T17:20:30.714049",
     "exception": false,
     "start_time": "2022-07-16T17:20:30.688531",
     "status": "completed"
    },
    "tags": []
   },
   "outputs": [
    {
     "data": {
      "text/plain": [
       "Normal    552\n",
       "LVH       188\n",
       "ST        178\n",
       "Name: RestingECG, dtype: int64"
      ]
     },
     "execution_count": 12,
     "metadata": {},
     "output_type": "execute_result"
    }
   ],
   "source": [
    "heart['RestingECG'].value_counts()"
   ]
  },
  {
   "cell_type": "markdown",
   "id": "c2d9b603",
   "metadata": {
    "papermill": {
     "duration": 0.012543,
     "end_time": "2022-07-16T17:20:30.739629",
     "exception": false,
     "start_time": "2022-07-16T17:20:30.727086",
     "status": "completed"
    },
    "tags": []
   },
   "source": [
    "<font color=\"Crimson\"><h2 style=\"text-align: justify; font-family: 'Lucida Calligraphy'; font-size:30px; color:Crimson\"> One hot encoding with Pandas (get_dummies)  </h2>"
   ]
  },
  {
   "cell_type": "markdown",
   "id": "c1d66cc7",
   "metadata": {
    "papermill": {
     "duration": 0.012355,
     "end_time": "2022-07-16T17:20:30.764500",
     "exception": false,
     "start_time": "2022-07-16T17:20:30.752145",
     "status": "completed"
    },
    "tags": []
   },
   "source": [
    "The Python library Pandas provides a function called get_dummies to enable one-hot encoding."
   ]
  },
  {
   "cell_type": "code",
   "execution_count": 13,
   "id": "9cec3913",
   "metadata": {
    "execution": {
     "iopub.execute_input": "2022-07-16T17:20:30.792485Z",
     "iopub.status.busy": "2022-07-16T17:20:30.792072Z",
     "iopub.status.idle": "2022-07-16T17:20:30.796790Z",
     "shell.execute_reply": "2022-07-16T17:20:30.795968Z"
    },
    "papermill": {
     "duration": 0.021402,
     "end_time": "2022-07-16T17:20:30.799035",
     "exception": false,
     "start_time": "2022-07-16T17:20:30.777633",
     "status": "completed"
    },
    "tags": []
   },
   "outputs": [],
   "source": [
    "heart_1 = heart.copy()"
   ]
  },
  {
   "cell_type": "code",
   "execution_count": 14,
   "id": "77407d22",
   "metadata": {
    "execution": {
     "iopub.execute_input": "2022-07-16T17:20:30.827022Z",
     "iopub.status.busy": "2022-07-16T17:20:30.826228Z",
     "iopub.status.idle": "2022-07-16T17:20:30.836357Z",
     "shell.execute_reply": "2022-07-16T17:20:30.835226Z"
    },
    "papermill": {
     "duration": 0.026675,
     "end_time": "2022-07-16T17:20:30.838877",
     "exception": false,
     "start_time": "2022-07-16T17:20:30.812202",
     "status": "completed"
    },
    "tags": []
   },
   "outputs": [
    {
     "data": {
      "text/plain": [
       "Normal    552\n",
       "LVH       188\n",
       "ST        178\n",
       "Name: RestingECG, dtype: int64"
      ]
     },
     "execution_count": 14,
     "metadata": {},
     "output_type": "execute_result"
    }
   ],
   "source": [
    "X = heart_1.drop(columns=\"HeartDisease\" , axis=1)\n",
    "Y = heart_1[\"HeartDisease\"]\n",
    "\n",
    "X[\"RestingECG\"].value_counts()"
   ]
  },
  {
   "cell_type": "code",
   "execution_count": 15,
   "id": "37500161",
   "metadata": {
    "execution": {
     "iopub.execute_input": "2022-07-16T17:20:30.866573Z",
     "iopub.status.busy": "2022-07-16T17:20:30.866117Z",
     "iopub.status.idle": "2022-07-16T17:20:30.887042Z",
     "shell.execute_reply": "2022-07-16T17:20:30.885716Z"
    },
    "papermill": {
     "duration": 0.037883,
     "end_time": "2022-07-16T17:20:30.889466",
     "exception": false,
     "start_time": "2022-07-16T17:20:30.851583",
     "status": "completed"
    },
    "tags": []
   },
   "outputs": [
    {
     "data": {
      "text/html": [
       "<div>\n",
       "<style scoped>\n",
       "    .dataframe tbody tr th:only-of-type {\n",
       "        vertical-align: middle;\n",
       "    }\n",
       "\n",
       "    .dataframe tbody tr th {\n",
       "        vertical-align: top;\n",
       "    }\n",
       "\n",
       "    .dataframe thead th {\n",
       "        text-align: right;\n",
       "    }\n",
       "</style>\n",
       "<table border=\"1\" class=\"dataframe\">\n",
       "  <thead>\n",
       "    <tr style=\"text-align: right;\">\n",
       "      <th></th>\n",
       "      <th>Age</th>\n",
       "      <th>Sex</th>\n",
       "      <th>ChestPainType</th>\n",
       "      <th>RestingBP</th>\n",
       "      <th>Cholesterol</th>\n",
       "      <th>FastingBS</th>\n",
       "      <th>MaxHR</th>\n",
       "      <th>ExerciseAngina</th>\n",
       "      <th>Oldpeak</th>\n",
       "      <th>ST_Slope</th>\n",
       "      <th>RestingECG_LVH</th>\n",
       "      <th>RestingECG_Normal</th>\n",
       "      <th>RestingECG_ST</th>\n",
       "    </tr>\n",
       "  </thead>\n",
       "  <tbody>\n",
       "    <tr>\n",
       "      <th>0</th>\n",
       "      <td>40</td>\n",
       "      <td>M</td>\n",
       "      <td>ATA</td>\n",
       "      <td>140</td>\n",
       "      <td>289</td>\n",
       "      <td>0</td>\n",
       "      <td>172</td>\n",
       "      <td>N</td>\n",
       "      <td>0.0</td>\n",
       "      <td>Up</td>\n",
       "      <td>0</td>\n",
       "      <td>1</td>\n",
       "      <td>0</td>\n",
       "    </tr>\n",
       "    <tr>\n",
       "      <th>1</th>\n",
       "      <td>49</td>\n",
       "      <td>F</td>\n",
       "      <td>NAP</td>\n",
       "      <td>160</td>\n",
       "      <td>180</td>\n",
       "      <td>0</td>\n",
       "      <td>156</td>\n",
       "      <td>N</td>\n",
       "      <td>1.0</td>\n",
       "      <td>Flat</td>\n",
       "      <td>0</td>\n",
       "      <td>1</td>\n",
       "      <td>0</td>\n",
       "    </tr>\n",
       "    <tr>\n",
       "      <th>2</th>\n",
       "      <td>37</td>\n",
       "      <td>M</td>\n",
       "      <td>ATA</td>\n",
       "      <td>130</td>\n",
       "      <td>283</td>\n",
       "      <td>0</td>\n",
       "      <td>98</td>\n",
       "      <td>N</td>\n",
       "      <td>0.0</td>\n",
       "      <td>Up</td>\n",
       "      <td>0</td>\n",
       "      <td>0</td>\n",
       "      <td>1</td>\n",
       "    </tr>\n",
       "    <tr>\n",
       "      <th>3</th>\n",
       "      <td>48</td>\n",
       "      <td>F</td>\n",
       "      <td>ASY</td>\n",
       "      <td>138</td>\n",
       "      <td>214</td>\n",
       "      <td>0</td>\n",
       "      <td>108</td>\n",
       "      <td>Y</td>\n",
       "      <td>1.5</td>\n",
       "      <td>Flat</td>\n",
       "      <td>0</td>\n",
       "      <td>1</td>\n",
       "      <td>0</td>\n",
       "    </tr>\n",
       "    <tr>\n",
       "      <th>4</th>\n",
       "      <td>54</td>\n",
       "      <td>M</td>\n",
       "      <td>NAP</td>\n",
       "      <td>150</td>\n",
       "      <td>195</td>\n",
       "      <td>0</td>\n",
       "      <td>122</td>\n",
       "      <td>N</td>\n",
       "      <td>0.0</td>\n",
       "      <td>Up</td>\n",
       "      <td>0</td>\n",
       "      <td>1</td>\n",
       "      <td>0</td>\n",
       "    </tr>\n",
       "  </tbody>\n",
       "</table>\n",
       "</div>"
      ],
      "text/plain": [
       "   Age Sex ChestPainType  RestingBP  Cholesterol  FastingBS  MaxHR  \\\n",
       "0   40   M           ATA        140          289          0    172   \n",
       "1   49   F           NAP        160          180          0    156   \n",
       "2   37   M           ATA        130          283          0     98   \n",
       "3   48   F           ASY        138          214          0    108   \n",
       "4   54   M           NAP        150          195          0    122   \n",
       "\n",
       "  ExerciseAngina  Oldpeak ST_Slope  RestingECG_LVH  RestingECG_Normal  \\\n",
       "0              N      0.0       Up               0                  1   \n",
       "1              N      1.0     Flat               0                  1   \n",
       "2              N      0.0       Up               0                  0   \n",
       "3              Y      1.5     Flat               0                  1   \n",
       "4              N      0.0       Up               0                  1   \n",
       "\n",
       "   RestingECG_ST  \n",
       "0              0  \n",
       "1              0  \n",
       "2              1  \n",
       "3              0  \n",
       "4              0  "
      ]
     },
     "execution_count": 15,
     "metadata": {},
     "output_type": "execute_result"
    }
   ],
   "source": [
    "X = pd.get_dummies(X, columns=[\"RestingECG\"])\n",
    "X.head()"
   ]
  },
  {
   "cell_type": "code",
   "execution_count": 16,
   "id": "8c653d59",
   "metadata": {
    "execution": {
     "iopub.execute_input": "2022-07-16T17:20:30.919835Z",
     "iopub.status.busy": "2022-07-16T17:20:30.919071Z",
     "iopub.status.idle": "2022-07-16T17:20:30.941214Z",
     "shell.execute_reply": "2022-07-16T17:20:30.939882Z"
    },
    "papermill": {
     "duration": 0.040197,
     "end_time": "2022-07-16T17:20:30.943512",
     "exception": false,
     "start_time": "2022-07-16T17:20:30.903315",
     "status": "completed"
    },
    "tags": []
   },
   "outputs": [
    {
     "data": {
      "text/html": [
       "<div>\n",
       "<style scoped>\n",
       "    .dataframe tbody tr th:only-of-type {\n",
       "        vertical-align: middle;\n",
       "    }\n",
       "\n",
       "    .dataframe tbody tr th {\n",
       "        vertical-align: top;\n",
       "    }\n",
       "\n",
       "    .dataframe thead th {\n",
       "        text-align: right;\n",
       "    }\n",
       "</style>\n",
       "<table border=\"1\" class=\"dataframe\">\n",
       "  <thead>\n",
       "    <tr style=\"text-align: right;\">\n",
       "      <th></th>\n",
       "      <th>Age</th>\n",
       "      <th>RestingBP</th>\n",
       "      <th>Cholesterol</th>\n",
       "      <th>FastingBS</th>\n",
       "      <th>MaxHR</th>\n",
       "      <th>Oldpeak</th>\n",
       "      <th>RestingECG_LVH</th>\n",
       "      <th>RestingECG_Normal</th>\n",
       "      <th>RestingECG_ST</th>\n",
       "      <th>Sex_M</th>\n",
       "      <th>ChestPainType_ATA</th>\n",
       "      <th>ChestPainType_NAP</th>\n",
       "      <th>ChestPainType_TA</th>\n",
       "      <th>ExerciseAngina_Y</th>\n",
       "      <th>ST_Slope_Flat</th>\n",
       "      <th>ST_Slope_Up</th>\n",
       "    </tr>\n",
       "  </thead>\n",
       "  <tbody>\n",
       "    <tr>\n",
       "      <th>0</th>\n",
       "      <td>40</td>\n",
       "      <td>140</td>\n",
       "      <td>289</td>\n",
       "      <td>0</td>\n",
       "      <td>172</td>\n",
       "      <td>0.0</td>\n",
       "      <td>0</td>\n",
       "      <td>1</td>\n",
       "      <td>0</td>\n",
       "      <td>1</td>\n",
       "      <td>1</td>\n",
       "      <td>0</td>\n",
       "      <td>0</td>\n",
       "      <td>0</td>\n",
       "      <td>0</td>\n",
       "      <td>1</td>\n",
       "    </tr>\n",
       "    <tr>\n",
       "      <th>1</th>\n",
       "      <td>49</td>\n",
       "      <td>160</td>\n",
       "      <td>180</td>\n",
       "      <td>0</td>\n",
       "      <td>156</td>\n",
       "      <td>1.0</td>\n",
       "      <td>0</td>\n",
       "      <td>1</td>\n",
       "      <td>0</td>\n",
       "      <td>0</td>\n",
       "      <td>0</td>\n",
       "      <td>1</td>\n",
       "      <td>0</td>\n",
       "      <td>0</td>\n",
       "      <td>1</td>\n",
       "      <td>0</td>\n",
       "    </tr>\n",
       "    <tr>\n",
       "      <th>2</th>\n",
       "      <td>37</td>\n",
       "      <td>130</td>\n",
       "      <td>283</td>\n",
       "      <td>0</td>\n",
       "      <td>98</td>\n",
       "      <td>0.0</td>\n",
       "      <td>0</td>\n",
       "      <td>0</td>\n",
       "      <td>1</td>\n",
       "      <td>1</td>\n",
       "      <td>1</td>\n",
       "      <td>0</td>\n",
       "      <td>0</td>\n",
       "      <td>0</td>\n",
       "      <td>0</td>\n",
       "      <td>1</td>\n",
       "    </tr>\n",
       "    <tr>\n",
       "      <th>3</th>\n",
       "      <td>48</td>\n",
       "      <td>138</td>\n",
       "      <td>214</td>\n",
       "      <td>0</td>\n",
       "      <td>108</td>\n",
       "      <td>1.5</td>\n",
       "      <td>0</td>\n",
       "      <td>1</td>\n",
       "      <td>0</td>\n",
       "      <td>0</td>\n",
       "      <td>0</td>\n",
       "      <td>0</td>\n",
       "      <td>0</td>\n",
       "      <td>1</td>\n",
       "      <td>1</td>\n",
       "      <td>0</td>\n",
       "    </tr>\n",
       "    <tr>\n",
       "      <th>4</th>\n",
       "      <td>54</td>\n",
       "      <td>150</td>\n",
       "      <td>195</td>\n",
       "      <td>0</td>\n",
       "      <td>122</td>\n",
       "      <td>0.0</td>\n",
       "      <td>0</td>\n",
       "      <td>1</td>\n",
       "      <td>0</td>\n",
       "      <td>1</td>\n",
       "      <td>0</td>\n",
       "      <td>1</td>\n",
       "      <td>0</td>\n",
       "      <td>0</td>\n",
       "      <td>0</td>\n",
       "      <td>1</td>\n",
       "    </tr>\n",
       "  </tbody>\n",
       "</table>\n",
       "</div>"
      ],
      "text/plain": [
       "   Age  RestingBP  Cholesterol  FastingBS  MaxHR  Oldpeak  RestingECG_LVH  \\\n",
       "0   40        140          289          0    172      0.0               0   \n",
       "1   49        160          180          0    156      1.0               0   \n",
       "2   37        130          283          0     98      0.0               0   \n",
       "3   48        138          214          0    108      1.5               0   \n",
       "4   54        150          195          0    122      0.0               0   \n",
       "\n",
       "   RestingECG_Normal  RestingECG_ST  Sex_M  ChestPainType_ATA  \\\n",
       "0                  1              0      1                  1   \n",
       "1                  1              0      0                  0   \n",
       "2                  0              1      1                  1   \n",
       "3                  1              0      0                  0   \n",
       "4                  1              0      1                  0   \n",
       "\n",
       "   ChestPainType_NAP  ChestPainType_TA  ExerciseAngina_Y  ST_Slope_Flat  \\\n",
       "0                  0                 0                 0              0   \n",
       "1                  1                 0                 0              1   \n",
       "2                  0                 0                 0              0   \n",
       "3                  0                 0                 1              1   \n",
       "4                  1                 0                 0              0   \n",
       "\n",
       "   ST_Slope_Up  \n",
       "0            1  \n",
       "1            0  \n",
       "2            1  \n",
       "3            0  \n",
       "4            1  "
      ]
     },
     "execution_count": 16,
     "metadata": {},
     "output_type": "execute_result"
    }
   ],
   "source": [
    "X = pd.get_dummies(X,drop_first=True)\n",
    "X.head()"
   ]
  },
  {
   "cell_type": "markdown",
   "id": "43c56d4f",
   "metadata": {
    "papermill": {
     "duration": 0.013279,
     "end_time": "2022-07-16T17:20:30.970557",
     "exception": false,
     "start_time": "2022-07-16T17:20:30.957278",
     "status": "completed"
    },
    "tags": []
   },
   "source": [
    "<font color=\"Crimson\"><h2 style=\"text-align: justify; font-family: 'Lucida Calligraphy'; font-size:30px; color:Crimson\"> One hot encoding with Sklearn (LabelEncoder)  </h2>"
   ]
  },
  {
   "cell_type": "markdown",
   "id": "c0a96be9",
   "metadata": {
    "papermill": {
     "duration": 0.012974,
     "end_time": "2022-07-16T17:20:30.997499",
     "exception": false,
     "start_time": "2022-07-16T17:20:30.984525",
     "status": "completed"
    },
    "tags": []
   },
   "source": [
    "> Label Encoding refers to converting the labels into a numeric form so as to convert them into the machine-readable form. Machine learning algorithms can then decide in a better way how those labels must be operated. It is an important pre-processing step for the structured dataset in supervised learning"
   ]
  },
  {
   "cell_type": "markdown",
   "id": "4a7807cb",
   "metadata": {
    "papermill": {
     "duration": 0.01255,
     "end_time": "2022-07-16T17:20:31.023007",
     "exception": false,
     "start_time": "2022-07-16T17:20:31.010457",
     "status": "completed"
    },
    "tags": []
   },
   "source": [
    "> In this encoding, each category is assigned a value from 1 through N (where N is the number of categories for the feature. One major issue with this approach is there is no relation or order between these classes, but the algorithm might consider them as some order or some relationship. In below example it may look like (Cold<Hot<Very Hot<Warm….0 < 1 < 2 < 3 ) .Scikit-learn code for the data-frame as follows:"
   ]
  },
  {
   "cell_type": "markdown",
   "id": "eb0415fa",
   "metadata": {
    "papermill": {
     "duration": 0.014336,
     "end_time": "2022-07-16T17:20:31.050763",
     "exception": false,
     "start_time": "2022-07-16T17:20:31.036427",
     "status": "completed"
    },
    "tags": []
   },
   "source": [
    "<center><img src=\"https://i.imgur.com/tEogUAr.png\" alt=\"Heart Disease\" width=\"100%\" width=\"100%\"></center>"
   ]
  },
  {
   "cell_type": "code",
   "execution_count": 17,
   "id": "bb7e6d40",
   "metadata": {
    "execution": {
     "iopub.execute_input": "2022-07-16T17:20:31.081167Z",
     "iopub.status.busy": "2022-07-16T17:20:31.080039Z",
     "iopub.status.idle": "2022-07-16T17:20:31.085217Z",
     "shell.execute_reply": "2022-07-16T17:20:31.084364Z"
    },
    "papermill": {
     "duration": 0.022839,
     "end_time": "2022-07-16T17:20:31.087607",
     "exception": false,
     "start_time": "2022-07-16T17:20:31.064768",
     "status": "completed"
    },
    "tags": []
   },
   "outputs": [],
   "source": [
    "heart_2 = heart.copy()"
   ]
  },
  {
   "cell_type": "code",
   "execution_count": 18,
   "id": "a1851dac",
   "metadata": {
    "execution": {
     "iopub.execute_input": "2022-07-16T17:20:31.117201Z",
     "iopub.status.busy": "2022-07-16T17:20:31.116221Z",
     "iopub.status.idle": "2022-07-16T17:20:31.127336Z",
     "shell.execute_reply": "2022-07-16T17:20:31.126364Z"
    },
    "papermill": {
     "duration": 0.02763,
     "end_time": "2022-07-16T17:20:31.129366",
     "exception": false,
     "start_time": "2022-07-16T17:20:31.101736",
     "status": "completed"
    },
    "tags": []
   },
   "outputs": [
    {
     "data": {
      "text/plain": [
       "Normal    552\n",
       "LVH       188\n",
       "ST        178\n",
       "Name: RestingECG, dtype: int64"
      ]
     },
     "execution_count": 18,
     "metadata": {},
     "output_type": "execute_result"
    }
   ],
   "source": [
    "X = heart_2.drop(columns=\"HeartDisease\" , axis=1)\n",
    "Y = heart_2[\"HeartDisease\"]\n",
    "\n",
    "X[\"RestingECG\"].value_counts()"
   ]
  },
  {
   "cell_type": "code",
   "execution_count": 19,
   "id": "2c5b1285",
   "metadata": {
    "execution": {
     "iopub.execute_input": "2022-07-16T17:20:31.160352Z",
     "iopub.status.busy": "2022-07-16T17:20:31.159768Z",
     "iopub.status.idle": "2022-07-16T17:20:31.342955Z",
     "shell.execute_reply": "2022-07-16T17:20:31.341855Z"
    },
    "papermill": {
     "duration": 0.201937,
     "end_time": "2022-07-16T17:20:31.345442",
     "exception": false,
     "start_time": "2022-07-16T17:20:31.143505",
     "status": "completed"
    },
    "tags": []
   },
   "outputs": [
    {
     "data": {
      "text/html": [
       "<div>\n",
       "<style scoped>\n",
       "    .dataframe tbody tr th:only-of-type {\n",
       "        vertical-align: middle;\n",
       "    }\n",
       "\n",
       "    .dataframe tbody tr th {\n",
       "        vertical-align: top;\n",
       "    }\n",
       "\n",
       "    .dataframe thead th {\n",
       "        text-align: right;\n",
       "    }\n",
       "</style>\n",
       "<table border=\"1\" class=\"dataframe\">\n",
       "  <thead>\n",
       "    <tr style=\"text-align: right;\">\n",
       "      <th></th>\n",
       "      <th>Age</th>\n",
       "      <th>Sex</th>\n",
       "      <th>ChestPainType</th>\n",
       "      <th>RestingBP</th>\n",
       "      <th>Cholesterol</th>\n",
       "      <th>FastingBS</th>\n",
       "      <th>RestingECG</th>\n",
       "      <th>MaxHR</th>\n",
       "      <th>ExerciseAngina</th>\n",
       "      <th>Oldpeak</th>\n",
       "      <th>ST_Slope</th>\n",
       "    </tr>\n",
       "  </thead>\n",
       "  <tbody>\n",
       "    <tr>\n",
       "      <th>0</th>\n",
       "      <td>40</td>\n",
       "      <td>M</td>\n",
       "      <td>ATA</td>\n",
       "      <td>140</td>\n",
       "      <td>289</td>\n",
       "      <td>0</td>\n",
       "      <td>1</td>\n",
       "      <td>172</td>\n",
       "      <td>N</td>\n",
       "      <td>0.0</td>\n",
       "      <td>Up</td>\n",
       "    </tr>\n",
       "    <tr>\n",
       "      <th>1</th>\n",
       "      <td>49</td>\n",
       "      <td>F</td>\n",
       "      <td>NAP</td>\n",
       "      <td>160</td>\n",
       "      <td>180</td>\n",
       "      <td>0</td>\n",
       "      <td>1</td>\n",
       "      <td>156</td>\n",
       "      <td>N</td>\n",
       "      <td>1.0</td>\n",
       "      <td>Flat</td>\n",
       "    </tr>\n",
       "    <tr>\n",
       "      <th>2</th>\n",
       "      <td>37</td>\n",
       "      <td>M</td>\n",
       "      <td>ATA</td>\n",
       "      <td>130</td>\n",
       "      <td>283</td>\n",
       "      <td>0</td>\n",
       "      <td>2</td>\n",
       "      <td>98</td>\n",
       "      <td>N</td>\n",
       "      <td>0.0</td>\n",
       "      <td>Up</td>\n",
       "    </tr>\n",
       "    <tr>\n",
       "      <th>3</th>\n",
       "      <td>48</td>\n",
       "      <td>F</td>\n",
       "      <td>ASY</td>\n",
       "      <td>138</td>\n",
       "      <td>214</td>\n",
       "      <td>0</td>\n",
       "      <td>1</td>\n",
       "      <td>108</td>\n",
       "      <td>Y</td>\n",
       "      <td>1.5</td>\n",
       "      <td>Flat</td>\n",
       "    </tr>\n",
       "    <tr>\n",
       "      <th>4</th>\n",
       "      <td>54</td>\n",
       "      <td>M</td>\n",
       "      <td>NAP</td>\n",
       "      <td>150</td>\n",
       "      <td>195</td>\n",
       "      <td>0</td>\n",
       "      <td>1</td>\n",
       "      <td>122</td>\n",
       "      <td>N</td>\n",
       "      <td>0.0</td>\n",
       "      <td>Up</td>\n",
       "    </tr>\n",
       "  </tbody>\n",
       "</table>\n",
       "</div>"
      ],
      "text/plain": [
       "   Age Sex ChestPainType  RestingBP  Cholesterol  FastingBS  RestingECG  \\\n",
       "0   40   M           ATA        140          289          0           1   \n",
       "1   49   F           NAP        160          180          0           1   \n",
       "2   37   M           ATA        130          283          0           2   \n",
       "3   48   F           ASY        138          214          0           1   \n",
       "4   54   M           NAP        150          195          0           1   \n",
       "\n",
       "   MaxHR ExerciseAngina  Oldpeak ST_Slope  \n",
       "0    172              N      0.0       Up  \n",
       "1    156              N      1.0     Flat  \n",
       "2     98              N      0.0       Up  \n",
       "3    108              Y      1.5     Flat  \n",
       "4    122              N      0.0       Up  "
      ]
     },
     "execution_count": 19,
     "metadata": {},
     "output_type": "execute_result"
    }
   ],
   "source": [
    "from sklearn.preprocessing import LabelEncoder\n",
    "encoder = LabelEncoder()\n",
    "X['RestingECG'] = encoder.fit_transform(X['RestingECG'])\n",
    "X.head()"
   ]
  },
  {
   "cell_type": "code",
   "execution_count": 20,
   "id": "3508568f",
   "metadata": {
    "execution": {
     "iopub.execute_input": "2022-07-16T17:20:31.374859Z",
     "iopub.status.busy": "2022-07-16T17:20:31.374460Z",
     "iopub.status.idle": "2022-07-16T17:20:31.382688Z",
     "shell.execute_reply": "2022-07-16T17:20:31.381696Z"
    },
    "papermill": {
     "duration": 0.026149,
     "end_time": "2022-07-16T17:20:31.385243",
     "exception": false,
     "start_time": "2022-07-16T17:20:31.359094",
     "status": "completed"
    },
    "tags": []
   },
   "outputs": [
    {
     "data": {
      "text/plain": [
       "1    552\n",
       "0    188\n",
       "2    178\n",
       "Name: RestingECG, dtype: int64"
      ]
     },
     "execution_count": 20,
     "metadata": {},
     "output_type": "execute_result"
    }
   ],
   "source": [
    "X[\"RestingECG\"].value_counts()"
   ]
  },
  {
   "cell_type": "markdown",
   "id": "fbebec49",
   "metadata": {
    "papermill": {
     "duration": 0.013083,
     "end_time": "2022-07-16T17:20:31.413012",
     "exception": false,
     "start_time": "2022-07-16T17:20:31.399929",
     "status": "completed"
    },
    "tags": []
   },
   "source": [
    " <font color=\"Crimson\"><h2 style=\"text-align: justify; font-family: 'Lucida Calligraphy'; font-size:30px; color:Crimson\"> One hot encoding with Sklearn (OneHotEncoder)  </h2>"
   ]
  },
  {
   "cell_type": "markdown",
   "id": "7cc3556a",
   "metadata": {
    "papermill": {
     "duration": 0.013022,
     "end_time": "2022-07-16T17:20:31.439585",
     "exception": false,
     "start_time": "2022-07-16T17:20:31.426563",
     "status": "completed"
    },
    "tags": []
   },
   "source": [
    "**One Hot Encoding using Sci-kit learn Library:**\n",
    "\n",
    "> One hot encoding algorithm is an encoding system of Sci-kit learn library. One Hot Encoding is used to convert numerical categorical variables into binary vectors. Before implementing this algorithm. Make sure the categorical values must be label encoded as one hot encoding takes only numerical categorical values. \n",
    "\n",
    "> One-hot encoding is used in machine learning as a method to quantify categorical data. In short, this method produces a vector with length equal to the number of categories in the data set. "
   ]
  },
  {
   "cell_type": "markdown",
   "id": "4b0adba4",
   "metadata": {
    "papermill": {
     "duration": 0.013186,
     "end_time": "2022-07-16T17:20:31.466112",
     "exception": false,
     "start_time": "2022-07-16T17:20:31.452926",
     "status": "completed"
    },
    "tags": []
   },
   "source": [
    "<center><img src=\"https://miro.medium.com/max/1200/1*ggtP4a5YaRx6l09KQaYOnw.png\" alt=\"Heart Disease\" width=\"100%\" width=\"100%\"></center>"
   ]
  },
  {
   "cell_type": "code",
   "execution_count": 21,
   "id": "00222cb5",
   "metadata": {
    "execution": {
     "iopub.execute_input": "2022-07-16T17:20:31.495302Z",
     "iopub.status.busy": "2022-07-16T17:20:31.494224Z",
     "iopub.status.idle": "2022-07-16T17:20:31.499336Z",
     "shell.execute_reply": "2022-07-16T17:20:31.498478Z"
    },
    "papermill": {
     "duration": 0.02186,
     "end_time": "2022-07-16T17:20:31.501500",
     "exception": false,
     "start_time": "2022-07-16T17:20:31.479640",
     "status": "completed"
    },
    "tags": []
   },
   "outputs": [],
   "source": [
    "heart_3 = heart.copy()"
   ]
  },
  {
   "cell_type": "code",
   "execution_count": 22,
   "id": "3ee986ca",
   "metadata": {
    "execution": {
     "iopub.execute_input": "2022-07-16T17:20:31.530483Z",
     "iopub.status.busy": "2022-07-16T17:20:31.529773Z",
     "iopub.status.idle": "2022-07-16T17:20:31.538548Z",
     "shell.execute_reply": "2022-07-16T17:20:31.537707Z"
    },
    "papermill": {
     "duration": 0.025539,
     "end_time": "2022-07-16T17:20:31.540582",
     "exception": false,
     "start_time": "2022-07-16T17:20:31.515043",
     "status": "completed"
    },
    "tags": []
   },
   "outputs": [
    {
     "data": {
      "text/plain": [
       "Normal    552\n",
       "LVH       188\n",
       "ST        178\n",
       "Name: RestingECG, dtype: int64"
      ]
     },
     "execution_count": 22,
     "metadata": {},
     "output_type": "execute_result"
    }
   ],
   "source": [
    "X = heart_3.drop(columns=\"HeartDisease\" , axis=1)\n",
    "Y = heart_3[\"HeartDisease\"]\n",
    "\n",
    "X[\"RestingECG\"].value_counts()"
   ]
  },
  {
   "cell_type": "code",
   "execution_count": 23,
   "id": "c56a0062",
   "metadata": {
    "execution": {
     "iopub.execute_input": "2022-07-16T17:20:31.569940Z",
     "iopub.status.busy": "2022-07-16T17:20:31.569231Z",
     "iopub.status.idle": "2022-07-16T17:20:31.582936Z",
     "shell.execute_reply": "2022-07-16T17:20:31.581788Z"
    },
    "papermill": {
     "duration": 0.031107,
     "end_time": "2022-07-16T17:20:31.585386",
     "exception": false,
     "start_time": "2022-07-16T17:20:31.554279",
     "status": "completed"
    },
    "tags": []
   },
   "outputs": [
    {
     "data": {
      "text/html": [
       "<div>\n",
       "<style scoped>\n",
       "    .dataframe tbody tr th:only-of-type {\n",
       "        vertical-align: middle;\n",
       "    }\n",
       "\n",
       "    .dataframe tbody tr th {\n",
       "        vertical-align: top;\n",
       "    }\n",
       "\n",
       "    .dataframe thead th {\n",
       "        text-align: right;\n",
       "    }\n",
       "</style>\n",
       "<table border=\"1\" class=\"dataframe\">\n",
       "  <thead>\n",
       "    <tr style=\"text-align: right;\">\n",
       "      <th></th>\n",
       "      <th>0</th>\n",
       "      <th>1</th>\n",
       "      <th>2</th>\n",
       "    </tr>\n",
       "  </thead>\n",
       "  <tbody>\n",
       "    <tr>\n",
       "      <th>0</th>\n",
       "      <td>0.0</td>\n",
       "      <td>1.0</td>\n",
       "      <td>0.0</td>\n",
       "    </tr>\n",
       "    <tr>\n",
       "      <th>1</th>\n",
       "      <td>0.0</td>\n",
       "      <td>1.0</td>\n",
       "      <td>0.0</td>\n",
       "    </tr>\n",
       "    <tr>\n",
       "      <th>2</th>\n",
       "      <td>0.0</td>\n",
       "      <td>0.0</td>\n",
       "      <td>1.0</td>\n",
       "    </tr>\n",
       "    <tr>\n",
       "      <th>3</th>\n",
       "      <td>0.0</td>\n",
       "      <td>1.0</td>\n",
       "      <td>0.0</td>\n",
       "    </tr>\n",
       "    <tr>\n",
       "      <th>4</th>\n",
       "      <td>0.0</td>\n",
       "      <td>1.0</td>\n",
       "      <td>0.0</td>\n",
       "    </tr>\n",
       "  </tbody>\n",
       "</table>\n",
       "</div>"
      ],
      "text/plain": [
       "     0    1    2\n",
       "0  0.0  1.0  0.0\n",
       "1  0.0  1.0  0.0\n",
       "2  0.0  0.0  1.0\n",
       "3  0.0  1.0  0.0\n",
       "4  0.0  1.0  0.0"
      ]
     },
     "execution_count": 23,
     "metadata": {},
     "output_type": "execute_result"
    }
   ],
   "source": [
    "from sklearn.preprocessing import OneHotEncoder\n",
    "\n",
    "ohe = OneHotEncoder(handle_unknown='ignore')\n",
    "\n",
    "X = pd.DataFrame(ohe.fit_transform(X[['RestingECG']]).toarray())\n",
    "X.head()"
   ]
  },
  {
   "cell_type": "code",
   "execution_count": 24,
   "id": "73e3e016",
   "metadata": {
    "execution": {
     "iopub.execute_input": "2022-07-16T17:20:31.615732Z",
     "iopub.status.busy": "2022-07-16T17:20:31.615070Z",
     "iopub.status.idle": "2022-07-16T17:20:31.636439Z",
     "shell.execute_reply": "2022-07-16T17:20:31.635315Z"
    },
    "papermill": {
     "duration": 0.039267,
     "end_time": "2022-07-16T17:20:31.638618",
     "exception": false,
     "start_time": "2022-07-16T17:20:31.599351",
     "status": "completed"
    },
    "tags": []
   },
   "outputs": [
    {
     "data": {
      "text/html": [
       "<div>\n",
       "<style scoped>\n",
       "    .dataframe tbody tr th:only-of-type {\n",
       "        vertical-align: middle;\n",
       "    }\n",
       "\n",
       "    .dataframe tbody tr th {\n",
       "        vertical-align: top;\n",
       "    }\n",
       "\n",
       "    .dataframe thead th {\n",
       "        text-align: right;\n",
       "    }\n",
       "</style>\n",
       "<table border=\"1\" class=\"dataframe\">\n",
       "  <thead>\n",
       "    <tr style=\"text-align: right;\">\n",
       "      <th></th>\n",
       "      <th>Age</th>\n",
       "      <th>Sex</th>\n",
       "      <th>ChestPainType</th>\n",
       "      <th>RestingBP</th>\n",
       "      <th>Cholesterol</th>\n",
       "      <th>FastingBS</th>\n",
       "      <th>MaxHR</th>\n",
       "      <th>ExerciseAngina</th>\n",
       "      <th>Oldpeak</th>\n",
       "      <th>ST_Slope</th>\n",
       "      <th>HeartDisease</th>\n",
       "      <th>0</th>\n",
       "      <th>1</th>\n",
       "      <th>2</th>\n",
       "    </tr>\n",
       "  </thead>\n",
       "  <tbody>\n",
       "    <tr>\n",
       "      <th>0</th>\n",
       "      <td>40</td>\n",
       "      <td>M</td>\n",
       "      <td>ATA</td>\n",
       "      <td>140</td>\n",
       "      <td>289</td>\n",
       "      <td>0</td>\n",
       "      <td>172</td>\n",
       "      <td>N</td>\n",
       "      <td>0.0</td>\n",
       "      <td>Up</td>\n",
       "      <td>0</td>\n",
       "      <td>0.0</td>\n",
       "      <td>1.0</td>\n",
       "      <td>0.0</td>\n",
       "    </tr>\n",
       "    <tr>\n",
       "      <th>1</th>\n",
       "      <td>49</td>\n",
       "      <td>F</td>\n",
       "      <td>NAP</td>\n",
       "      <td>160</td>\n",
       "      <td>180</td>\n",
       "      <td>0</td>\n",
       "      <td>156</td>\n",
       "      <td>N</td>\n",
       "      <td>1.0</td>\n",
       "      <td>Flat</td>\n",
       "      <td>1</td>\n",
       "      <td>0.0</td>\n",
       "      <td>1.0</td>\n",
       "      <td>0.0</td>\n",
       "    </tr>\n",
       "    <tr>\n",
       "      <th>2</th>\n",
       "      <td>37</td>\n",
       "      <td>M</td>\n",
       "      <td>ATA</td>\n",
       "      <td>130</td>\n",
       "      <td>283</td>\n",
       "      <td>0</td>\n",
       "      <td>98</td>\n",
       "      <td>N</td>\n",
       "      <td>0.0</td>\n",
       "      <td>Up</td>\n",
       "      <td>0</td>\n",
       "      <td>0.0</td>\n",
       "      <td>0.0</td>\n",
       "      <td>1.0</td>\n",
       "    </tr>\n",
       "    <tr>\n",
       "      <th>3</th>\n",
       "      <td>48</td>\n",
       "      <td>F</td>\n",
       "      <td>ASY</td>\n",
       "      <td>138</td>\n",
       "      <td>214</td>\n",
       "      <td>0</td>\n",
       "      <td>108</td>\n",
       "      <td>Y</td>\n",
       "      <td>1.5</td>\n",
       "      <td>Flat</td>\n",
       "      <td>1</td>\n",
       "      <td>0.0</td>\n",
       "      <td>1.0</td>\n",
       "      <td>0.0</td>\n",
       "    </tr>\n",
       "    <tr>\n",
       "      <th>4</th>\n",
       "      <td>54</td>\n",
       "      <td>M</td>\n",
       "      <td>NAP</td>\n",
       "      <td>150</td>\n",
       "      <td>195</td>\n",
       "      <td>0</td>\n",
       "      <td>122</td>\n",
       "      <td>N</td>\n",
       "      <td>0.0</td>\n",
       "      <td>Up</td>\n",
       "      <td>0</td>\n",
       "      <td>0.0</td>\n",
       "      <td>1.0</td>\n",
       "      <td>0.0</td>\n",
       "    </tr>\n",
       "  </tbody>\n",
       "</table>\n",
       "</div>"
      ],
      "text/plain": [
       "   Age Sex ChestPainType  RestingBP  Cholesterol  FastingBS  MaxHR  \\\n",
       "0   40   M           ATA        140          289          0    172   \n",
       "1   49   F           NAP        160          180          0    156   \n",
       "2   37   M           ATA        130          283          0     98   \n",
       "3   48   F           ASY        138          214          0    108   \n",
       "4   54   M           NAP        150          195          0    122   \n",
       "\n",
       "  ExerciseAngina  Oldpeak ST_Slope  HeartDisease    0    1    2  \n",
       "0              N      0.0       Up             0  0.0  1.0  0.0  \n",
       "1              N      1.0     Flat             1  0.0  1.0  0.0  \n",
       "2              N      0.0       Up             0  0.0  0.0  1.0  \n",
       "3              Y      1.5     Flat             1  0.0  1.0  0.0  \n",
       "4              N      0.0       Up             0  0.0  1.0  0.0  "
      ]
     },
     "execution_count": 24,
     "metadata": {},
     "output_type": "execute_result"
    }
   ],
   "source": [
    "X = pd.concat([heart_3,X],axis=1).drop('RestingECG',axis=1)\n",
    "X.head()"
   ]
  },
  {
   "cell_type": "markdown",
   "id": "a8cb53ee",
   "metadata": {
    "papermill": {
     "duration": 0.014488,
     "end_time": "2022-07-16T17:20:31.667032",
     "exception": false,
     "start_time": "2022-07-16T17:20:31.652544",
     "status": "completed"
    },
    "tags": []
   },
   "source": [
    "<font color=\"Crimson\"><h2 style=\"text-align: justify; font-family: 'Lucida Calligraphy'; font-size:30px; color:Crimson\"> Ordinal Encoding  </h2>"
   ]
  },
  {
   "cell_type": "code",
   "execution_count": 25,
   "id": "de5a4d8c",
   "metadata": {
    "execution": {
     "iopub.execute_input": "2022-07-16T17:20:31.699379Z",
     "iopub.status.busy": "2022-07-16T17:20:31.698611Z",
     "iopub.status.idle": "2022-07-16T17:20:31.703732Z",
     "shell.execute_reply": "2022-07-16T17:20:31.702879Z"
    },
    "papermill": {
     "duration": 0.023843,
     "end_time": "2022-07-16T17:20:31.706026",
     "exception": false,
     "start_time": "2022-07-16T17:20:31.682183",
     "status": "completed"
    },
    "tags": []
   },
   "outputs": [],
   "source": [
    "heart_4 = heart.copy()"
   ]
  },
  {
   "cell_type": "code",
   "execution_count": 26,
   "id": "4c79959d",
   "metadata": {
    "execution": {
     "iopub.execute_input": "2022-07-16T17:20:31.736260Z",
     "iopub.status.busy": "2022-07-16T17:20:31.735875Z",
     "iopub.status.idle": "2022-07-16T17:20:31.747381Z",
     "shell.execute_reply": "2022-07-16T17:20:31.746553Z"
    },
    "papermill": {
     "duration": 0.029645,
     "end_time": "2022-07-16T17:20:31.749759",
     "exception": false,
     "start_time": "2022-07-16T17:20:31.720114",
     "status": "completed"
    },
    "tags": []
   },
   "outputs": [
    {
     "data": {
      "text/plain": [
       "Normal    552\n",
       "LVH       188\n",
       "ST        178\n",
       "Name: RestingECG, dtype: int64"
      ]
     },
     "execution_count": 26,
     "metadata": {},
     "output_type": "execute_result"
    }
   ],
   "source": [
    "X = heart_4.drop(columns=\"HeartDisease\" , axis=1)\n",
    "Y = heart_4[\"HeartDisease\"]\n",
    "\n",
    "X[\"RestingECG\"].value_counts()"
   ]
  },
  {
   "cell_type": "code",
   "execution_count": 27,
   "id": "0adaeaf4",
   "metadata": {
    "execution": {
     "iopub.execute_input": "2022-07-16T17:20:31.780291Z",
     "iopub.status.busy": "2022-07-16T17:20:31.779660Z",
     "iopub.status.idle": "2022-07-16T17:20:32.041572Z",
     "shell.execute_reply": "2022-07-16T17:20:32.040192Z"
    },
    "papermill": {
     "duration": 0.280001,
     "end_time": "2022-07-16T17:20:32.044017",
     "exception": false,
     "start_time": "2022-07-16T17:20:31.764016",
     "status": "completed"
    },
    "tags": []
   },
   "outputs": [
    {
     "data": {
      "text/html": [
       "<div>\n",
       "<style scoped>\n",
       "    .dataframe tbody tr th:only-of-type {\n",
       "        vertical-align: middle;\n",
       "    }\n",
       "\n",
       "    .dataframe tbody tr th {\n",
       "        vertical-align: top;\n",
       "    }\n",
       "\n",
       "    .dataframe thead th {\n",
       "        text-align: right;\n",
       "    }\n",
       "</style>\n",
       "<table border=\"1\" class=\"dataframe\">\n",
       "  <thead>\n",
       "    <tr style=\"text-align: right;\">\n",
       "      <th></th>\n",
       "      <th>Age</th>\n",
       "      <th>Sex</th>\n",
       "      <th>ChestPainType</th>\n",
       "      <th>RestingBP</th>\n",
       "      <th>Cholesterol</th>\n",
       "      <th>FastingBS</th>\n",
       "      <th>RestingECG</th>\n",
       "      <th>MaxHR</th>\n",
       "      <th>ExerciseAngina</th>\n",
       "      <th>Oldpeak</th>\n",
       "      <th>ST_Slope</th>\n",
       "    </tr>\n",
       "  </thead>\n",
       "  <tbody>\n",
       "    <tr>\n",
       "      <th>0</th>\n",
       "      <td>40</td>\n",
       "      <td>M</td>\n",
       "      <td>ATA</td>\n",
       "      <td>140</td>\n",
       "      <td>289</td>\n",
       "      <td>0</td>\n",
       "      <td>1</td>\n",
       "      <td>172</td>\n",
       "      <td>N</td>\n",
       "      <td>0.0</td>\n",
       "      <td>Up</td>\n",
       "    </tr>\n",
       "    <tr>\n",
       "      <th>1</th>\n",
       "      <td>49</td>\n",
       "      <td>F</td>\n",
       "      <td>NAP</td>\n",
       "      <td>160</td>\n",
       "      <td>180</td>\n",
       "      <td>0</td>\n",
       "      <td>1</td>\n",
       "      <td>156</td>\n",
       "      <td>N</td>\n",
       "      <td>1.0</td>\n",
       "      <td>Flat</td>\n",
       "    </tr>\n",
       "    <tr>\n",
       "      <th>2</th>\n",
       "      <td>37</td>\n",
       "      <td>M</td>\n",
       "      <td>ATA</td>\n",
       "      <td>130</td>\n",
       "      <td>283</td>\n",
       "      <td>0</td>\n",
       "      <td>2</td>\n",
       "      <td>98</td>\n",
       "      <td>N</td>\n",
       "      <td>0.0</td>\n",
       "      <td>Up</td>\n",
       "    </tr>\n",
       "    <tr>\n",
       "      <th>3</th>\n",
       "      <td>48</td>\n",
       "      <td>F</td>\n",
       "      <td>ASY</td>\n",
       "      <td>138</td>\n",
       "      <td>214</td>\n",
       "      <td>0</td>\n",
       "      <td>1</td>\n",
       "      <td>108</td>\n",
       "      <td>Y</td>\n",
       "      <td>1.5</td>\n",
       "      <td>Flat</td>\n",
       "    </tr>\n",
       "    <tr>\n",
       "      <th>4</th>\n",
       "      <td>54</td>\n",
       "      <td>M</td>\n",
       "      <td>NAP</td>\n",
       "      <td>150</td>\n",
       "      <td>195</td>\n",
       "      <td>0</td>\n",
       "      <td>1</td>\n",
       "      <td>122</td>\n",
       "      <td>N</td>\n",
       "      <td>0.0</td>\n",
       "      <td>Up</td>\n",
       "    </tr>\n",
       "  </tbody>\n",
       "</table>\n",
       "</div>"
      ],
      "text/plain": [
       "   Age Sex ChestPainType  RestingBP  Cholesterol  FastingBS  RestingECG  \\\n",
       "0   40   M           ATA        140          289          0           1   \n",
       "1   49   F           NAP        160          180          0           1   \n",
       "2   37   M           ATA        130          283          0           2   \n",
       "3   48   F           ASY        138          214          0           1   \n",
       "4   54   M           NAP        150          195          0           1   \n",
       "\n",
       "   MaxHR ExerciseAngina  Oldpeak ST_Slope  \n",
       "0    172              N      0.0       Up  \n",
       "1    156              N      1.0     Flat  \n",
       "2     98              N      0.0       Up  \n",
       "3    108              Y      1.5     Flat  \n",
       "4    122              N      0.0       Up  "
      ]
     },
     "execution_count": 27,
     "metadata": {},
     "output_type": "execute_result"
    }
   ],
   "source": [
    "import category_encoders as ce\n",
    "encoder = ce.OrdinalEncoder(cols=['RestingECG'])\n",
    "X = encoder.fit_transform(X)\n",
    "X.head()"
   ]
  },
  {
   "cell_type": "code",
   "execution_count": 28,
   "id": "54ded014",
   "metadata": {
    "execution": {
     "iopub.execute_input": "2022-07-16T17:20:32.074844Z",
     "iopub.status.busy": "2022-07-16T17:20:32.074161Z",
     "iopub.status.idle": "2022-07-16T17:20:32.082171Z",
     "shell.execute_reply": "2022-07-16T17:20:32.081228Z"
    },
    "papermill": {
     "duration": 0.025957,
     "end_time": "2022-07-16T17:20:32.084333",
     "exception": false,
     "start_time": "2022-07-16T17:20:32.058376",
     "status": "completed"
    },
    "tags": []
   },
   "outputs": [
    {
     "data": {
      "text/plain": [
       "1    552\n",
       "3    188\n",
       "2    178\n",
       "Name: RestingECG, dtype: int64"
      ]
     },
     "execution_count": 28,
     "metadata": {},
     "output_type": "execute_result"
    }
   ],
   "source": [
    "X[\"RestingECG\"].value_counts()"
   ]
  },
  {
   "cell_type": "markdown",
   "id": "22f0a3a6",
   "metadata": {
    "papermill": {
     "duration": 0.014738,
     "end_time": "2022-07-16T17:20:32.113568",
     "exception": false,
     "start_time": "2022-07-16T17:20:32.098830",
     "status": "completed"
    },
    "tags": []
   },
   "source": [
    "<font color=\"Crimson\"><h2 style=\"text-align: justify; font-family: 'Lucida Calligraphy'; font-size:30px; color:Crimson\"> Replace Method  </h2>"
   ]
  },
  {
   "cell_type": "code",
   "execution_count": 29,
   "id": "8ad0be1a",
   "metadata": {
    "execution": {
     "iopub.execute_input": "2022-07-16T17:20:32.145237Z",
     "iopub.status.busy": "2022-07-16T17:20:32.144505Z",
     "iopub.status.idle": "2022-07-16T17:20:32.149782Z",
     "shell.execute_reply": "2022-07-16T17:20:32.148465Z"
    },
    "papermill": {
     "duration": 0.024567,
     "end_time": "2022-07-16T17:20:32.152559",
     "exception": false,
     "start_time": "2022-07-16T17:20:32.127992",
     "status": "completed"
    },
    "tags": []
   },
   "outputs": [],
   "source": [
    "heart_5 = heart.copy()"
   ]
  },
  {
   "cell_type": "code",
   "execution_count": 30,
   "id": "36310d55",
   "metadata": {
    "execution": {
     "iopub.execute_input": "2022-07-16T17:20:32.185186Z",
     "iopub.status.busy": "2022-07-16T17:20:32.184429Z",
     "iopub.status.idle": "2022-07-16T17:20:32.195888Z",
     "shell.execute_reply": "2022-07-16T17:20:32.194814Z"
    },
    "papermill": {
     "duration": 0.031105,
     "end_time": "2022-07-16T17:20:32.198092",
     "exception": false,
     "start_time": "2022-07-16T17:20:32.166987",
     "status": "completed"
    },
    "tags": []
   },
   "outputs": [
    {
     "data": {
      "text/plain": [
       "Normal    552\n",
       "LVH       188\n",
       "ST        178\n",
       "Name: RestingECG, dtype: int64"
      ]
     },
     "execution_count": 30,
     "metadata": {},
     "output_type": "execute_result"
    }
   ],
   "source": [
    "X = heart_5.drop(columns=\"HeartDisease\" , axis=1)\n",
    "Y = heart_5[\"HeartDisease\"]\n",
    "\n",
    "X[\"RestingECG\"].value_counts()"
   ]
  },
  {
   "cell_type": "code",
   "execution_count": 31,
   "id": "10eb3b84",
   "metadata": {
    "execution": {
     "iopub.execute_input": "2022-07-16T17:20:32.232585Z",
     "iopub.status.busy": "2022-07-16T17:20:32.231962Z",
     "iopub.status.idle": "2022-07-16T17:20:32.238983Z",
     "shell.execute_reply": "2022-07-16T17:20:32.238103Z"
    },
    "papermill": {
     "duration": 0.027138,
     "end_time": "2022-07-16T17:20:32.241831",
     "exception": false,
     "start_time": "2022-07-16T17:20:32.214693",
     "status": "completed"
    },
    "tags": []
   },
   "outputs": [],
   "source": [
    "X[\"RestingECG\"].replace({\"Normal\":0 ,\"LVH\":1 ,\"ST\":2} , inplace=True)"
   ]
  },
  {
   "cell_type": "code",
   "execution_count": 32,
   "id": "ff461951",
   "metadata": {
    "execution": {
     "iopub.execute_input": "2022-07-16T17:20:32.274580Z",
     "iopub.status.busy": "2022-07-16T17:20:32.274181Z",
     "iopub.status.idle": "2022-07-16T17:20:32.289118Z",
     "shell.execute_reply": "2022-07-16T17:20:32.287872Z"
    },
    "papermill": {
     "duration": 0.034611,
     "end_time": "2022-07-16T17:20:32.291581",
     "exception": false,
     "start_time": "2022-07-16T17:20:32.256970",
     "status": "completed"
    },
    "tags": []
   },
   "outputs": [
    {
     "data": {
      "text/html": [
       "<div>\n",
       "<style scoped>\n",
       "    .dataframe tbody tr th:only-of-type {\n",
       "        vertical-align: middle;\n",
       "    }\n",
       "\n",
       "    .dataframe tbody tr th {\n",
       "        vertical-align: top;\n",
       "    }\n",
       "\n",
       "    .dataframe thead th {\n",
       "        text-align: right;\n",
       "    }\n",
       "</style>\n",
       "<table border=\"1\" class=\"dataframe\">\n",
       "  <thead>\n",
       "    <tr style=\"text-align: right;\">\n",
       "      <th></th>\n",
       "      <th>Age</th>\n",
       "      <th>Sex</th>\n",
       "      <th>ChestPainType</th>\n",
       "      <th>RestingBP</th>\n",
       "      <th>Cholesterol</th>\n",
       "      <th>FastingBS</th>\n",
       "      <th>RestingECG</th>\n",
       "      <th>MaxHR</th>\n",
       "      <th>ExerciseAngina</th>\n",
       "      <th>Oldpeak</th>\n",
       "      <th>ST_Slope</th>\n",
       "    </tr>\n",
       "  </thead>\n",
       "  <tbody>\n",
       "    <tr>\n",
       "      <th>0</th>\n",
       "      <td>40</td>\n",
       "      <td>M</td>\n",
       "      <td>ATA</td>\n",
       "      <td>140</td>\n",
       "      <td>289</td>\n",
       "      <td>0</td>\n",
       "      <td>0</td>\n",
       "      <td>172</td>\n",
       "      <td>N</td>\n",
       "      <td>0.0</td>\n",
       "      <td>Up</td>\n",
       "    </tr>\n",
       "    <tr>\n",
       "      <th>1</th>\n",
       "      <td>49</td>\n",
       "      <td>F</td>\n",
       "      <td>NAP</td>\n",
       "      <td>160</td>\n",
       "      <td>180</td>\n",
       "      <td>0</td>\n",
       "      <td>0</td>\n",
       "      <td>156</td>\n",
       "      <td>N</td>\n",
       "      <td>1.0</td>\n",
       "      <td>Flat</td>\n",
       "    </tr>\n",
       "    <tr>\n",
       "      <th>2</th>\n",
       "      <td>37</td>\n",
       "      <td>M</td>\n",
       "      <td>ATA</td>\n",
       "      <td>130</td>\n",
       "      <td>283</td>\n",
       "      <td>0</td>\n",
       "      <td>2</td>\n",
       "      <td>98</td>\n",
       "      <td>N</td>\n",
       "      <td>0.0</td>\n",
       "      <td>Up</td>\n",
       "    </tr>\n",
       "    <tr>\n",
       "      <th>3</th>\n",
       "      <td>48</td>\n",
       "      <td>F</td>\n",
       "      <td>ASY</td>\n",
       "      <td>138</td>\n",
       "      <td>214</td>\n",
       "      <td>0</td>\n",
       "      <td>0</td>\n",
       "      <td>108</td>\n",
       "      <td>Y</td>\n",
       "      <td>1.5</td>\n",
       "      <td>Flat</td>\n",
       "    </tr>\n",
       "    <tr>\n",
       "      <th>4</th>\n",
       "      <td>54</td>\n",
       "      <td>M</td>\n",
       "      <td>NAP</td>\n",
       "      <td>150</td>\n",
       "      <td>195</td>\n",
       "      <td>0</td>\n",
       "      <td>0</td>\n",
       "      <td>122</td>\n",
       "      <td>N</td>\n",
       "      <td>0.0</td>\n",
       "      <td>Up</td>\n",
       "    </tr>\n",
       "  </tbody>\n",
       "</table>\n",
       "</div>"
      ],
      "text/plain": [
       "   Age Sex ChestPainType  RestingBP  Cholesterol  FastingBS  RestingECG  \\\n",
       "0   40   M           ATA        140          289          0           0   \n",
       "1   49   F           NAP        160          180          0           0   \n",
       "2   37   M           ATA        130          283          0           2   \n",
       "3   48   F           ASY        138          214          0           0   \n",
       "4   54   M           NAP        150          195          0           0   \n",
       "\n",
       "   MaxHR ExerciseAngina  Oldpeak ST_Slope  \n",
       "0    172              N      0.0       Up  \n",
       "1    156              N      1.0     Flat  \n",
       "2     98              N      0.0       Up  \n",
       "3    108              Y      1.5     Flat  \n",
       "4    122              N      0.0       Up  "
      ]
     },
     "execution_count": 32,
     "metadata": {},
     "output_type": "execute_result"
    }
   ],
   "source": [
    "X.head()"
   ]
  },
  {
   "cell_type": "code",
   "execution_count": 33,
   "id": "14a4a8dc",
   "metadata": {
    "execution": {
     "iopub.execute_input": "2022-07-16T17:20:32.323230Z",
     "iopub.status.busy": "2022-07-16T17:20:32.322565Z",
     "iopub.status.idle": "2022-07-16T17:20:32.329343Z",
     "shell.execute_reply": "2022-07-16T17:20:32.328506Z"
    },
    "papermill": {
     "duration": 0.025074,
     "end_time": "2022-07-16T17:20:32.331641",
     "exception": false,
     "start_time": "2022-07-16T17:20:32.306567",
     "status": "completed"
    },
    "tags": []
   },
   "outputs": [
    {
     "data": {
      "text/plain": [
       "0    552\n",
       "1    188\n",
       "2    178\n",
       "Name: RestingECG, dtype: int64"
      ]
     },
     "execution_count": 33,
     "metadata": {},
     "output_type": "execute_result"
    }
   ],
   "source": [
    "X['RestingECG'].value_counts()"
   ]
  },
  {
   "cell_type": "markdown",
   "id": "8ec70df6",
   "metadata": {
    "papermill": {
     "duration": 0.015344,
     "end_time": "2022-07-16T17:20:32.363102",
     "exception": false,
     "start_time": "2022-07-16T17:20:32.347758",
     "status": "completed"
    },
    "tags": []
   },
   "source": [
    "<font color=\"Crimson\" size=+2 face=\"Lucida Calligraphy\"><div style=\"text-align: justify\">References</font>"
   ]
  },
  {
   "cell_type": "markdown",
   "id": "c70a563e",
   "metadata": {
    "papermill": {
     "duration": 0.015981,
     "end_time": "2022-07-16T17:20:32.394021",
     "exception": false,
     "start_time": "2022-07-16T17:20:32.378040",
     "status": "completed"
    },
    "tags": []
   },
   "source": [
    "https://slidecourse.blogspot.com/2021/06/numerical-vs-categorical-data.html\n",
    "\n",
    "https://towardsdatascience.com/know-about-categorical-encoding-even-new-ones-c266227b9cbd\n",
    "\n",
    "https://www.educative.io/blog/one-hot-encoding"
   ]
  },
  {
   "cell_type": "code",
   "execution_count": null,
   "id": "9d18db8c",
   "metadata": {
    "papermill": {
     "duration": 0.014663,
     "end_time": "2022-07-16T17:20:32.424880",
     "exception": false,
     "start_time": "2022-07-16T17:20:32.410217",
     "status": "completed"
    },
    "tags": []
   },
   "outputs": [],
   "source": []
  }
 ],
 "metadata": {
  "kernelspec": {
   "display_name": "Python 3 (ipykernel)",
   "language": "python",
   "name": "python3"
  },
  "language_info": {
   "codemirror_mode": {
    "name": "ipython",
    "version": 3
   },
   "file_extension": ".py",
   "mimetype": "text/x-python",
   "name": "python",
   "nbconvert_exporter": "python",
   "pygments_lexer": "ipython3",
   "version": "3.9.12"
  },
  "latex_envs": {
   "LaTeX_envs_menu_present": true,
   "autoclose": false,
   "autocomplete": true,
   "bibliofile": "biblio.bib",
   "cite_by": "apalike",
   "current_citInitial": 1,
   "eqLabelWithNumbers": true,
   "eqNumInitial": 1,
   "hotkeys": {
    "equation": "Ctrl-E",
    "itemize": "Ctrl-I"
   },
   "labels_anchors": false,
   "latex_user_defs": false,
   "report_style_numbering": false,
   "user_envs_cfg": false
  },
  "papermill": {
   "default_parameters": {},
   "duration": 15.00199,
   "end_time": "2022-07-16T17:20:33.262013",
   "environment_variables": {},
   "exception": null,
   "input_path": "__notebook__.ipynb",
   "output_path": "__notebook__.ipynb",
   "parameters": {},
   "start_time": "2022-07-16T17:20:18.260023",
   "version": "2.3.4"
  },
  "toc": {
   "base_numbering": 1,
   "nav_menu": {},
   "number_sections": true,
   "sideBar": true,
   "skip_h1_title": false,
   "title_cell": "Table of Contents",
   "title_sidebar": "Contents",
   "toc_cell": false,
   "toc_position": {},
   "toc_section_display": true,
   "toc_window_display": false
  }
 },
 "nbformat": 4,
 "nbformat_minor": 5
}
